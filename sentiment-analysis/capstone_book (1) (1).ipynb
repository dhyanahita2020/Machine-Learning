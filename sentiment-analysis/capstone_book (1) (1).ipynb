{
 "cells": [
  {
   "cell_type": "markdown",
   "metadata": {},
   "source": [
    "# Importing necessary libraries"
   ]
  },
  {
   "cell_type": "code",
   "execution_count": 2,
   "metadata": {},
   "outputs": [],
   "source": [
    "import re    # for regular expressions\n",
    "import nltk  # for text manipulation\n",
    "import string\n",
    "import warnings\n",
    "import numpy as np\n",
    "import pandas as pd \n",
    "import seaborn as sns \n",
    "import matplotlib.pyplot as plt "
   ]
  },
  {
   "cell_type": "markdown",
   "metadata": {},
   "source": [
    "## Loading dataset "
   ]
  },
  {
   "cell_type": "code",
   "execution_count": 3,
   "metadata": {},
   "outputs": [],
   "source": [
    "train  = pd.read_csv('train_E6oV3lV.csv')"
   ]
  },
  {
   "cell_type": "markdown",
   "metadata": {},
   "source": [
    "## Data inspection"
   ]
  },
  {
   "cell_type": "code",
   "execution_count": 4,
   "metadata": {},
   "outputs": [
    {
     "data": {
      "text/html": [
       "<div>\n",
       "<style scoped>\n",
       "    .dataframe tbody tr th:only-of-type {\n",
       "        vertical-align: middle;\n",
       "    }\n",
       "\n",
       "    .dataframe tbody tr th {\n",
       "        vertical-align: top;\n",
       "    }\n",
       "\n",
       "    .dataframe thead th {\n",
       "        text-align: right;\n",
       "    }\n",
       "</style>\n",
       "<table border=\"1\" class=\"dataframe\">\n",
       "  <thead>\n",
       "    <tr style=\"text-align: right;\">\n",
       "      <th></th>\n",
       "      <th>id</th>\n",
       "      <th>label</th>\n",
       "      <th>tweet</th>\n",
       "    </tr>\n",
       "  </thead>\n",
       "  <tbody>\n",
       "    <tr>\n",
       "      <th>0</th>\n",
       "      <td>1</td>\n",
       "      <td>0</td>\n",
       "      <td>@user when a father is dysfunctional and is s...</td>\n",
       "    </tr>\n",
       "    <tr>\n",
       "      <th>1</th>\n",
       "      <td>2</td>\n",
       "      <td>0</td>\n",
       "      <td>@user @user thanks for #lyft credit i can't us...</td>\n",
       "    </tr>\n",
       "    <tr>\n",
       "      <th>2</th>\n",
       "      <td>3</td>\n",
       "      <td>0</td>\n",
       "      <td>bihday your majesty</td>\n",
       "    </tr>\n",
       "    <tr>\n",
       "      <th>3</th>\n",
       "      <td>4</td>\n",
       "      <td>0</td>\n",
       "      <td>#model   i love u take with u all the time in ...</td>\n",
       "    </tr>\n",
       "    <tr>\n",
       "      <th>4</th>\n",
       "      <td>5</td>\n",
       "      <td>0</td>\n",
       "      <td>factsguide: society now    #motivation</td>\n",
       "    </tr>\n",
       "    <tr>\n",
       "      <th>5</th>\n",
       "      <td>6</td>\n",
       "      <td>0</td>\n",
       "      <td>[2/2] huge fan fare and big talking before the...</td>\n",
       "    </tr>\n",
       "    <tr>\n",
       "      <th>6</th>\n",
       "      <td>7</td>\n",
       "      <td>0</td>\n",
       "      <td>@user camping tomorrow @user @user @user @use...</td>\n",
       "    </tr>\n",
       "    <tr>\n",
       "      <th>7</th>\n",
       "      <td>8</td>\n",
       "      <td>0</td>\n",
       "      <td>the next school year is the year for exams.ð...</td>\n",
       "    </tr>\n",
       "    <tr>\n",
       "      <th>8</th>\n",
       "      <td>9</td>\n",
       "      <td>0</td>\n",
       "      <td>we won!!! love the land!!! #allin #cavs #champ...</td>\n",
       "    </tr>\n",
       "    <tr>\n",
       "      <th>9</th>\n",
       "      <td>10</td>\n",
       "      <td>0</td>\n",
       "      <td>@user @user welcome here !  i'm   it's so #gr...</td>\n",
       "    </tr>\n",
       "  </tbody>\n",
       "</table>\n",
       "</div>"
      ],
      "text/plain": [
       "   id  label                                              tweet\n",
       "0   1      0   @user when a father is dysfunctional and is s...\n",
       "1   2      0  @user @user thanks for #lyft credit i can't us...\n",
       "2   3      0                                bihday your majesty\n",
       "3   4      0  #model   i love u take with u all the time in ...\n",
       "4   5      0             factsguide: society now    #motivation\n",
       "5   6      0  [2/2] huge fan fare and big talking before the...\n",
       "6   7      0   @user camping tomorrow @user @user @user @use...\n",
       "7   8      0  the next school year is the year for exams.ð...\n",
       "8   9      0  we won!!! love the land!!! #allin #cavs #champ...\n",
       "9  10      0   @user @user welcome here !  i'm   it's so #gr..."
      ]
     },
     "execution_count": 4,
     "metadata": {},
     "output_type": "execute_result"
    }
   ],
   "source": [
    "train.head(10)"
   ]
  },
  {
   "cell_type": "code",
   "execution_count": 5,
   "metadata": {},
   "outputs": [
    {
     "data": {
      "text/plain": [
       "(31962, 3)"
      ]
     },
     "execution_count": 5,
     "metadata": {},
     "output_type": "execute_result"
    }
   ],
   "source": [
    "train.shape"
   ]
  },
  {
   "cell_type": "code",
   "execution_count": 6,
   "metadata": {},
   "outputs": [
    {
     "data": {
      "text/plain": [
       "0    29720\n",
       "1     2242\n",
       "Name: label, dtype: int64"
      ]
     },
     "execution_count": 6,
     "metadata": {},
     "output_type": "execute_result"
    }
   ],
   "source": [
    "train['label'].value_counts()"
   ]
  },
  {
   "cell_type": "code",
   "execution_count": null,
   "metadata": {},
   "outputs": [],
   "source": []
  },
  {
   "cell_type": "code",
   "execution_count": 7,
   "metadata": {},
   "outputs": [
    {
     "data": {
      "text/plain": [
       "<matplotlib.axes._subplots.AxesSubplot at 0x29bd3e80518>"
      ]
     },
     "execution_count": 7,
     "metadata": {},
     "output_type": "execute_result"
    },
    {
     "data": {
      "image/png": "[encoded data removed]",
      "text/plain": [
       "<Figure size 432x288 with 1 Axes>"
      ]
     },
     "metadata": {},
     "output_type": "display_data"
    }
   ],
   "source": [
    "sns.countplot(x='label',data=train)"
   ]
  },
  {
   "cell_type": "markdown",
   "metadata": {},
   "source": [
    "# statistics of raw tweets"
   ]
  },
  {
   "cell_type": "code",
   "execution_count": 8,
   "metadata": {},
   "outputs": [
    {
     "data": {
      "text/plain": [
       "count                                                 31962\n",
       "unique                                                29530\n",
       "top       #model   i love u take with u all the time in ...\n",
       "freq                                                    319\n",
       "Name: tweet, dtype: object"
      ]
     },
     "execution_count": 8,
     "metadata": {},
     "output_type": "execute_result"
    }
   ],
   "source": [
    "train['tweet'].describe()"
   ]
  },
  {
   "cell_type": "code",
   "execution_count": 110,
   "metadata": {},
   "outputs": [],
   "source": [
    "arr1 = []\n",
    "for i in train['tweet']:\n",
    "    arr1.append(len(str(i)))\n",
    "#print(arr1)\n"
   ]
  },
  {
   "cell_type": "code",
   "execution_count": 111,
   "metadata": {},
   "outputs": [
    {
     "name": "stdout",
     "output_type": "stream",
     "text": [
      "[102 122  21 ...  63  67  32]\n",
      "mean of the length of words: 84.73962830861649\n",
      "median of the length of words: 88.0\n",
      "max of the length of words: 274\n",
      "min of the length of words: 11\n"
     ]
    },
    {
     "data": {
      "image/png": "[encoded data removed]",
      "text/plain": [
       "<Figure size 432x288 with 1 Axes>"
      ]
     },
     "metadata": {},
     "output_type": "display_data"
    }
   ],
   "source": [
    "arr1nd =np.array(arr1)\n",
    "print(arr1nd)\n",
    "print(\"mean of the length of words: {}\".format(np.mean(arr1nd)))\n",
    "print(\"median of the length of words: {}\".format(np.median(arr1nd)))\n",
    "print(\"max of the length of words: {}\".format(np.max(arr1nd)))\n",
    "print(\"min of the length of words: {}\".format(np.min(arr1nd)))\n",
    "plt.plot(arr1nd)\n",
    "plt.xlabel(\"no of reviews\")\n",
    "plt.ylabel(\"no of words\")\n",
    "plt.show()"
   ]
  },
  {
   "cell_type": "markdown",
   "metadata": {},
   "source": [
    "\n",
    "## Data Cleaning"
   ]
  },
  {
   "cell_type": "code",
   "execution_count": 25,
   "metadata": {},
   "outputs": [],
   "source": [
    "#function to remove unwanted text"
   ]
  },
  {
   "cell_type": "code",
   "execution_count": 26,
   "metadata": {},
   "outputs": [],
   "source": [
    "def remove_pattern(input_text,pattern):\n",
    "    r=re.findall(pattern,input_text)\n",
    "    for i in r:\n",
    "        input_text=re.sub(i,'',input_text)\n",
    "    return input_text"
   ]
  },
  {
   "cell_type": "markdown",
   "metadata": {},
   "source": [
    "## #removing twitter handles"
   ]
  },
  {
   "cell_type": "code",
   "execution_count": 27,
   "metadata": {},
   "outputs": [],
   "source": [
    "train['tidy_tweet']=np.vectorize(remove_pattern)(train['tweet'],'@[\\w]*')"
   ]
  },
  {
   "cell_type": "code",
   "execution_count": 28,
   "metadata": {},
   "outputs": [
    {
     "data": {
      "text/html": [
       "<div>\n",
       "<style scoped>\n",
       "    .dataframe tbody tr th:only-of-type {\n",
       "        vertical-align: middle;\n",
       "    }\n",
       "\n",
       "    .dataframe tbody tr th {\n",
       "        vertical-align: top;\n",
       "    }\n",
       "\n",
       "    .dataframe thead th {\n",
       "        text-align: right;\n",
       "    }\n",
       "</style>\n",
       "<table border=\"1\" class=\"dataframe\">\n",
       "  <thead>\n",
       "    <tr style=\"text-align: right;\">\n",
       "      <th></th>\n",
       "      <th>id</th>\n",
       "      <th>label</th>\n",
       "      <th>tweet</th>\n",
       "      <th>tidy_tweet</th>\n",
       "    </tr>\n",
       "  </thead>\n",
       "  <tbody>\n",
       "    <tr>\n",
       "      <th>0</th>\n",
       "      <td>1</td>\n",
       "      <td>0</td>\n",
       "      <td>@user when a father is dysfunctional and is s...</td>\n",
       "      <td>when a father is dysfunctional and is so sel...</td>\n",
       "    </tr>\n",
       "    <tr>\n",
       "      <th>1</th>\n",
       "      <td>2</td>\n",
       "      <td>0</td>\n",
       "      <td>@user @user thanks for #lyft credit i can't us...</td>\n",
       "      <td>thanks for #lyft credit i can't use cause th...</td>\n",
       "    </tr>\n",
       "    <tr>\n",
       "      <th>2</th>\n",
       "      <td>3</td>\n",
       "      <td>0</td>\n",
       "      <td>bihday your majesty</td>\n",
       "      <td>bihday your majesty</td>\n",
       "    </tr>\n",
       "    <tr>\n",
       "      <th>3</th>\n",
       "      <td>4</td>\n",
       "      <td>0</td>\n",
       "      <td>#model   i love u take with u all the time in ...</td>\n",
       "      <td>#model   i love u take with u all the time in ...</td>\n",
       "    </tr>\n",
       "    <tr>\n",
       "      <th>4</th>\n",
       "      <td>5</td>\n",
       "      <td>0</td>\n",
       "      <td>factsguide: society now    #motivation</td>\n",
       "      <td>factsguide: society now    #motivation</td>\n",
       "    </tr>\n",
       "    <tr>\n",
       "      <th>5</th>\n",
       "      <td>6</td>\n",
       "      <td>0</td>\n",
       "      <td>[2/2] huge fan fare and big talking before the...</td>\n",
       "      <td>[2/2] huge fan fare and big talking before the...</td>\n",
       "    </tr>\n",
       "    <tr>\n",
       "      <th>6</th>\n",
       "      <td>7</td>\n",
       "      <td>0</td>\n",
       "      <td>@user camping tomorrow @user @user @user @use...</td>\n",
       "      <td>camping tomorrow        dannyâ¦</td>\n",
       "    </tr>\n",
       "    <tr>\n",
       "      <th>7</th>\n",
       "      <td>8</td>\n",
       "      <td>0</td>\n",
       "      <td>the next school year is the year for exams.ð...</td>\n",
       "      <td>the next school year is the year for exams.ð...</td>\n",
       "    </tr>\n",
       "    <tr>\n",
       "      <th>8</th>\n",
       "      <td>9</td>\n",
       "      <td>0</td>\n",
       "      <td>we won!!! love the land!!! #allin #cavs #champ...</td>\n",
       "      <td>we won!!! love the land!!! #allin #cavs #champ...</td>\n",
       "    </tr>\n",
       "    <tr>\n",
       "      <th>9</th>\n",
       "      <td>10</td>\n",
       "      <td>0</td>\n",
       "      <td>@user @user welcome here !  i'm   it's so #gr...</td>\n",
       "      <td>welcome here !  i'm   it's so #gr8 !</td>\n",
       "    </tr>\n",
       "  </tbody>\n",
       "</table>\n",
       "</div>"
      ],
      "text/plain": [
       "   id  label                                              tweet  \\\n",
       "0   1      0   @user when a father is dysfunctional and is s...   \n",
       "1   2      0  @user @user thanks for #lyft credit i can't us...   \n",
       "2   3      0                                bihday your majesty   \n",
       "3   4      0  #model   i love u take with u all the time in ...   \n",
       "4   5      0             factsguide: society now    #motivation   \n",
       "5   6      0  [2/2] huge fan fare and big talking before the...   \n",
       "6   7      0   @user camping tomorrow @user @user @user @use...   \n",
       "7   8      0  the next school year is the year for exams.ð...   \n",
       "8   9      0  we won!!! love the land!!! #allin #cavs #champ...   \n",
       "9  10      0   @user @user welcome here !  i'm   it's so #gr...   \n",
       "\n",
       "                                          tidy_tweet  \n",
       "0    when a father is dysfunctional and is so sel...  \n",
       "1    thanks for #lyft credit i can't use cause th...  \n",
       "2                                bihday your majesty  \n",
       "3  #model   i love u take with u all the time in ...  \n",
       "4             factsguide: society now    #motivation  \n",
       "5  [2/2] huge fan fare and big talking before the...  \n",
       "6                   camping tomorrow        dannyâ¦  \n",
       "7  the next school year is the year for exams.ð...  \n",
       "8  we won!!! love the land!!! #allin #cavs #champ...  \n",
       "9              welcome here !  i'm   it's so #gr8 !   "
      ]
     },
     "execution_count": 28,
     "metadata": {},
     "output_type": "execute_result"
    }
   ],
   "source": [
    "train.head(10)"
   ]
  },
  {
   "cell_type": "markdown",
   "metadata": {},
   "source": [
    "## #removing punctuations,numbers and special chars "
   ]
  },
  {
   "cell_type": "code",
   "execution_count": 29,
   "metadata": {},
   "outputs": [],
   "source": [
    "train['tidy_tweet']=train['tidy_tweet'].str.replace(\"[^a-zA-Z#]\",\" \")"
   ]
  },
  {
   "cell_type": "code",
   "execution_count": 30,
   "metadata": {},
   "outputs": [
    {
     "data": {
      "text/html": [
       "<div>\n",
       "<style scoped>\n",
       "    .dataframe tbody tr th:only-of-type {\n",
       "        vertical-align: middle;\n",
       "    }\n",
       "\n",
       "    .dataframe tbody tr th {\n",
       "        vertical-align: top;\n",
       "    }\n",
       "\n",
       "    .dataframe thead th {\n",
       "        text-align: right;\n",
       "    }\n",
       "</style>\n",
       "<table border=\"1\" class=\"dataframe\">\n",
       "  <thead>\n",
       "    <tr style=\"text-align: right;\">\n",
       "      <th></th>\n",
       "      <th>id</th>\n",
       "      <th>label</th>\n",
       "      <th>tweet</th>\n",
       "      <th>tidy_tweet</th>\n",
       "    </tr>\n",
       "  </thead>\n",
       "  <tbody>\n",
       "    <tr>\n",
       "      <th>0</th>\n",
       "      <td>1</td>\n",
       "      <td>0</td>\n",
       "      <td>@user when a father is dysfunctional and is s...</td>\n",
       "      <td>when a father is dysfunctional and is so sel...</td>\n",
       "    </tr>\n",
       "    <tr>\n",
       "      <th>1</th>\n",
       "      <td>2</td>\n",
       "      <td>0</td>\n",
       "      <td>@user @user thanks for #lyft credit i can't us...</td>\n",
       "      <td>thanks for #lyft credit i can t use cause th...</td>\n",
       "    </tr>\n",
       "    <tr>\n",
       "      <th>2</th>\n",
       "      <td>3</td>\n",
       "      <td>0</td>\n",
       "      <td>bihday your majesty</td>\n",
       "      <td>bihday your majesty</td>\n",
       "    </tr>\n",
       "    <tr>\n",
       "      <th>3</th>\n",
       "      <td>4</td>\n",
       "      <td>0</td>\n",
       "      <td>#model   i love u take with u all the time in ...</td>\n",
       "      <td>#model   i love u take with u all the time in ...</td>\n",
       "    </tr>\n",
       "    <tr>\n",
       "      <th>4</th>\n",
       "      <td>5</td>\n",
       "      <td>0</td>\n",
       "      <td>factsguide: society now    #motivation</td>\n",
       "      <td>factsguide  society now    #motivation</td>\n",
       "    </tr>\n",
       "    <tr>\n",
       "      <th>5</th>\n",
       "      <td>6</td>\n",
       "      <td>0</td>\n",
       "      <td>[2/2] huge fan fare and big talking before the...</td>\n",
       "      <td>huge fan fare and big talking before the...</td>\n",
       "    </tr>\n",
       "    <tr>\n",
       "      <th>6</th>\n",
       "      <td>7</td>\n",
       "      <td>0</td>\n",
       "      <td>@user camping tomorrow @user @user @user @use...</td>\n",
       "      <td>camping tomorrow        danny</td>\n",
       "    </tr>\n",
       "    <tr>\n",
       "      <th>7</th>\n",
       "      <td>8</td>\n",
       "      <td>0</td>\n",
       "      <td>the next school year is the year for exams.ð...</td>\n",
       "      <td>the next school year is the year for exams    ...</td>\n",
       "    </tr>\n",
       "    <tr>\n",
       "      <th>8</th>\n",
       "      <td>9</td>\n",
       "      <td>0</td>\n",
       "      <td>we won!!! love the land!!! #allin #cavs #champ...</td>\n",
       "      <td>we won    love the land    #allin #cavs #champ...</td>\n",
       "    </tr>\n",
       "    <tr>\n",
       "      <th>9</th>\n",
       "      <td>10</td>\n",
       "      <td>0</td>\n",
       "      <td>@user @user welcome here !  i'm   it's so #gr...</td>\n",
       "      <td>welcome here    i m   it s so #gr</td>\n",
       "    </tr>\n",
       "  </tbody>\n",
       "</table>\n",
       "</div>"
      ],
      "text/plain": [
       "   id  label                                              tweet  \\\n",
       "0   1      0   @user when a father is dysfunctional and is s...   \n",
       "1   2      0  @user @user thanks for #lyft credit i can't us...   \n",
       "2   3      0                                bihday your majesty   \n",
       "3   4      0  #model   i love u take with u all the time in ...   \n",
       "4   5      0             factsguide: society now    #motivation   \n",
       "5   6      0  [2/2] huge fan fare and big talking before the...   \n",
       "6   7      0   @user camping tomorrow @user @user @user @use...   \n",
       "7   8      0  the next school year is the year for exams.ð...   \n",
       "8   9      0  we won!!! love the land!!! #allin #cavs #champ...   \n",
       "9  10      0   @user @user welcome here !  i'm   it's so #gr...   \n",
       "\n",
       "                                          tidy_tweet  \n",
       "0    when a father is dysfunctional and is so sel...  \n",
       "1    thanks for #lyft credit i can t use cause th...  \n",
       "2                                bihday your majesty  \n",
       "3  #model   i love u take with u all the time in ...  \n",
       "4             factsguide  society now    #motivation  \n",
       "5        huge fan fare and big talking before the...  \n",
       "6                   camping tomorrow        danny     \n",
       "7  the next school year is the year for exams    ...  \n",
       "8  we won    love the land    #allin #cavs #champ...  \n",
       "9              welcome here    i m   it s so #gr      "
      ]
     },
     "execution_count": 30,
     "metadata": {},
     "output_type": "execute_result"
    }
   ],
   "source": [
    "train.head(10)"
   ]
  },
  {
   "cell_type": "markdown",
   "metadata": {},
   "source": [
    "## #removing short words"
   ]
  },
  {
   "cell_type": "code",
   "execution_count": 31,
   "metadata": {},
   "outputs": [],
   "source": [
    "train['tidy_tweet'] = train['tidy_tweet'].apply(lambda x:' '.join([w for w in x.split() if len(w)>3]))"
   ]
  },
  {
   "cell_type": "code",
   "execution_count": 32,
   "metadata": {},
   "outputs": [
    {
     "data": {
      "text/html": [
       "<div>\n",
       "<style scoped>\n",
       "    .dataframe tbody tr th:only-of-type {\n",
       "        vertical-align: middle;\n",
       "    }\n",
       "\n",
       "    .dataframe tbody tr th {\n",
       "        vertical-align: top;\n",
       "    }\n",
       "\n",
       "    .dataframe thead th {\n",
       "        text-align: right;\n",
       "    }\n",
       "</style>\n",
       "<table border=\"1\" class=\"dataframe\">\n",
       "  <thead>\n",
       "    <tr style=\"text-align: right;\">\n",
       "      <th></th>\n",
       "      <th>id</th>\n",
       "      <th>label</th>\n",
       "      <th>tweet</th>\n",
       "      <th>tidy_tweet</th>\n",
       "    </tr>\n",
       "  </thead>\n",
       "  <tbody>\n",
       "    <tr>\n",
       "      <th>0</th>\n",
       "      <td>1</td>\n",
       "      <td>0</td>\n",
       "      <td>@user when a father is dysfunctional and is s...</td>\n",
       "      <td>when father dysfunctional selfish drags kids i...</td>\n",
       "    </tr>\n",
       "    <tr>\n",
       "      <th>1</th>\n",
       "      <td>2</td>\n",
       "      <td>0</td>\n",
       "      <td>@user @user thanks for #lyft credit i can't us...</td>\n",
       "      <td>thanks #lyft credit cause they offer wheelchai...</td>\n",
       "    </tr>\n",
       "    <tr>\n",
       "      <th>2</th>\n",
       "      <td>3</td>\n",
       "      <td>0</td>\n",
       "      <td>bihday your majesty</td>\n",
       "      <td>bihday your majesty</td>\n",
       "    </tr>\n",
       "    <tr>\n",
       "      <th>3</th>\n",
       "      <td>4</td>\n",
       "      <td>0</td>\n",
       "      <td>#model   i love u take with u all the time in ...</td>\n",
       "      <td>#model love take with time</td>\n",
       "    </tr>\n",
       "    <tr>\n",
       "      <th>4</th>\n",
       "      <td>5</td>\n",
       "      <td>0</td>\n",
       "      <td>factsguide: society now    #motivation</td>\n",
       "      <td>factsguide society #motivation</td>\n",
       "    </tr>\n",
       "    <tr>\n",
       "      <th>5</th>\n",
       "      <td>6</td>\n",
       "      <td>0</td>\n",
       "      <td>[2/2] huge fan fare and big talking before the...</td>\n",
       "      <td>huge fare talking before they leave chaos disp...</td>\n",
       "    </tr>\n",
       "    <tr>\n",
       "      <th>6</th>\n",
       "      <td>7</td>\n",
       "      <td>0</td>\n",
       "      <td>@user camping tomorrow @user @user @user @use...</td>\n",
       "      <td>camping tomorrow danny</td>\n",
       "    </tr>\n",
       "    <tr>\n",
       "      <th>7</th>\n",
       "      <td>8</td>\n",
       "      <td>0</td>\n",
       "      <td>the next school year is the year for exams.ð...</td>\n",
       "      <td>next school year year exams think about that #...</td>\n",
       "    </tr>\n",
       "    <tr>\n",
       "      <th>8</th>\n",
       "      <td>9</td>\n",
       "      <td>0</td>\n",
       "      <td>we won!!! love the land!!! #allin #cavs #champ...</td>\n",
       "      <td>love land #allin #cavs #champions #cleveland #...</td>\n",
       "    </tr>\n",
       "    <tr>\n",
       "      <th>9</th>\n",
       "      <td>10</td>\n",
       "      <td>0</td>\n",
       "      <td>@user @user welcome here !  i'm   it's so #gr...</td>\n",
       "      <td>welcome here</td>\n",
       "    </tr>\n",
       "  </tbody>\n",
       "</table>\n",
       "</div>"
      ],
      "text/plain": [
       "   id  label                                              tweet  \\\n",
       "0   1      0   @user when a father is dysfunctional and is s...   \n",
       "1   2      0  @user @user thanks for #lyft credit i can't us...   \n",
       "2   3      0                                bihday your majesty   \n",
       "3   4      0  #model   i love u take with u all the time in ...   \n",
       "4   5      0             factsguide: society now    #motivation   \n",
       "5   6      0  [2/2] huge fan fare and big talking before the...   \n",
       "6   7      0   @user camping tomorrow @user @user @user @use...   \n",
       "7   8      0  the next school year is the year for exams.ð...   \n",
       "8   9      0  we won!!! love the land!!! #allin #cavs #champ...   \n",
       "9  10      0   @user @user welcome here !  i'm   it's so #gr...   \n",
       "\n",
       "                                          tidy_tweet  \n",
       "0  when father dysfunctional selfish drags kids i...  \n",
       "1  thanks #lyft credit cause they offer wheelchai...  \n",
       "2                                bihday your majesty  \n",
       "3                         #model love take with time  \n",
       "4                     factsguide society #motivation  \n",
       "5  huge fare talking before they leave chaos disp...  \n",
       "6                             camping tomorrow danny  \n",
       "7  next school year year exams think about that #...  \n",
       "8  love land #allin #cavs #champions #cleveland #...  \n",
       "9                                       welcome here  "
      ]
     },
     "execution_count": 32,
     "metadata": {},
     "output_type": "execute_result"
    }
   ],
   "source": [
    "train.head(10)"
   ]
  },
  {
   "cell_type": "markdown",
   "metadata": {},
   "source": [
    "## Tokenization"
   ]
  },
  {
   "cell_type": "code",
   "execution_count": 33,
   "metadata": {},
   "outputs": [],
   "source": [
    "tokenized_tweet=train['tidy_tweet'].apply(lambda x:x.split())"
   ]
  },
  {
   "cell_type": "code",
   "execution_count": 34,
   "metadata": {},
   "outputs": [
    {
     "data": {
      "text/plain": [
       "0    [when, father, dysfunctional, selfish, drags, ...\n",
       "1    [thanks, #lyft, credit, cause, they, offer, wh...\n",
       "2                              [bihday, your, majesty]\n",
       "3                     [#model, love, take, with, time]\n",
       "4                   [factsguide, society, #motivation]\n",
       "5    [huge, fare, talking, before, they, leave, cha...\n",
       "6                           [camping, tomorrow, danny]\n",
       "7    [next, school, year, year, exams, think, about...\n",
       "8    [love, land, #allin, #cavs, #champions, #cleve...\n",
       "9                                      [welcome, here]\n",
       "Name: tidy_tweet, dtype: object"
      ]
     },
     "execution_count": 34,
     "metadata": {},
     "output_type": "execute_result"
    }
   ],
   "source": [
    "tokenized_tweet.head(10)"
   ]
  },
  {
   "cell_type": "markdown",
   "metadata": {},
   "source": [
    "## Removing stopwords"
   ]
  },
  {
   "cell_type": "code",
   "execution_count": 35,
   "metadata": {},
   "outputs": [
    {
     "data": {
      "text/plain": [
       "0    [father, dysfunctional, selfish, drags, kids, ...\n",
       "1    [thanks, #lyft, credit, cause, offer, wheelcha...\n",
       "2                                    [bihday, majesty]\n",
       "3                           [#model, love, take, time]\n",
       "4                   [factsguide, society, #motivation]\n",
       "5    [huge, fare, talking, leave, chaos, disputes, ...\n",
       "6                           [camping, tomorrow, danny]\n",
       "7    [next, school, year, year, exams, think, #scho...\n",
       "8    [love, land, #allin, #cavs, #champions, #cleve...\n",
       "9                                            [welcome]\n",
       "Name: tidy_tweet, dtype: object"
      ]
     },
     "execution_count": 35,
     "metadata": {},
     "output_type": "execute_result"
    }
   ],
   "source": [
    "from nltk.corpus import stopwords\n",
    "stop_words=set(stopwords.words('english'))\n",
    "for i in range(len(tokenized_tweet)):\n",
    "     tokenized_tweet[i]=[w for w in tokenized_tweet[i] if w not in stop_words]\n",
    "tokenized_tweet.head(10)"
   ]
  },
  {
   "cell_type": "markdown",
   "metadata": {},
   "source": [
    "## Stemming(normalizing)"
   ]
  },
  {
   "cell_type": "code",
   "execution_count": 36,
   "metadata": {},
   "outputs": [
    {
     "data": {
      "text/plain": [
       "0        [father, dysfunct, selfish, drag, kid, dysfunc...\n",
       "1        [thank, #lyft, credit, caus, offer, wheelchair...\n",
       "2                                        [bihday, majesti]\n",
       "3                               [#model, love, take, time]\n",
       "4                             [factsguid, societi, #motiv]\n",
       "5        [huge, fare, talk, leav, chao, disput, #allsho...\n",
       "6                                  [camp, tomorrow, danni]\n",
       "7        [next, school, year, year, exam, think, #schoo...\n",
       "8        [love, land, #allin, #cav, #champion, #clevela...\n",
       "9                                                 [welcom]\n",
       "10       [#ireland, consum, price, index, climb, previo...\n",
       "11       [selfish, #orlando, #standwithorlando, #pulses...\n",
       "12                          [daddi, today, day, #gettingf]\n",
       "13       [#cnn, call, #michigan, middl, school, build, ...\n",
       "14       [comment, #australia, #opkillingbay, #seasheph...\n",
       "15       [ouch, junior, angri, #got, #junior, #yugyoem,...\n",
       "16                          [thank, paner, #thank, #posit]\n",
       "17                                         [retweet, agre]\n",
       "18       [#friday, smile, around, user, #cooki, make, p...\n",
       "19                      [know, essenti, oil, made, chemic]\n",
       "20       [#euro, peopl, blame, conced, goal, rooney, ga...\n",
       "21       [littl, dude, #badday, #coneofsham, #cat, #pis...\n",
       "22       [product, happi, #wine, tool, #weekend, time, ...\n",
       "23                              [lumpi, say, prove, lumpi]\n",
       "24       [#tgif, #gamedev, #indiedev, #indiegamedev, #s...\n",
       "25       [beauti, sign, vendor, #upsideofflorida, #shop...\n",
       "26       [#smile, #media, #pressconfer, #antalya, #turk...\n",
       "27            [great, panel, mediat, public, servic, #ica]\n",
       "28                                         [happi, father]\n",
       "29       [peopl, went, nightclub, good, night, action, ...\n",
       "                               ...                        \n",
       "31932                                       [thank, gemma]\n",
       "31933    [judd, #homophob, #freemilo, #milo, #freemilo,...\n",
       "31934     [ladi, ban, kentucki, mall, #jcpenni, #kentucki]\n",
       "31935    [tri, enjoy, happi, hour, drink, talk, polit, ...\n",
       "31936    [want, know, live, life, thing, make, happi, l...\n",
       "31937                                       [love, island]\n",
       "31938    [actor, #vijaysethupathi, actress, director, f...\n",
       "31939                             [whew, product, #friday]\n",
       "31940                                              [final]\n",
       "31941    [pass, first, year, #yay, #love, #pass, #unist...\n",
       "31942      [week, fli, #humpday, #wednesday, #kamp, #ucsd]\n",
       "31943    [model, photoshoot, friday, #model, #follow, #...\n",
       "31944          [surround, peopl, love, even, deserv, hate]\n",
       "31945    [feel, like, #dog, #summer, #hot, #help, #sun,...\n",
       "31946    [omfg, offend, mailbox, proud, #mailboxprid, #...\n",
       "31947    [ball, hashtag, weasel, away, lumpi, toni, dip...\n",
       "31948                               [make, anybodi, thank]\n",
       "31949    [hear, song, kati, elli, #youtub, #origin, #mu...\n",
       "31950    [tail, stop, butt, good, time, #goldenretriev,...\n",
       "31951               [post, blog, #secondlif, #lone, #neko]\n",
       "31952                                               [went]\n",
       "31953    [good, morn, #instagram, #shower, #water, #ber...\n",
       "31954    [#holiday, bull, domin, bull, direct, whatev, ...\n",
       "31955    [less, week, #ibiza#bringiton#mallorca#holiday...\n",
       "31956     [fish, tomorrow, carnt, wait, first, time, year]\n",
       "31957                                              [youuu]\n",
       "31958    [nina, turner, airwav, tri, wrap, mantl, genui...\n",
       "31959                   [listen, song, monday, morn, work]\n",
       "31960    [#sikh, #templ, vandalis, #calgari, #wso, cond...\n",
       "31961                                      [thank, follow]\n",
       "Name: tidy_tweet, Length: 31962, dtype: object"
      ]
     },
     "execution_count": 36,
     "metadata": {},
     "output_type": "execute_result"
    }
   ],
   "source": [
    "## normalizing the tokenized tweets\n",
    "from nltk.stem.porter import *\n",
    "stemmer=PorterStemmer()\n",
    "tokenized_tweet=tokenized_tweet.apply(lambda x:[stemmer.stem(i) for i in x])\n",
    "tokenized_tweet"
   ]
  },
  {
   "cell_type": "code",
   "execution_count": 80,
   "metadata": {},
   "outputs": [
    {
     "data": {
      "text/plain": [
       "0    29720\n",
       "1     2242\n",
       "Name: label, dtype: int64"
      ]
     },
     "execution_count": 80,
     "metadata": {},
     "output_type": "execute_result"
    }
   ],
   "source": [
    "train['label'].value_counts()"
   ]
  },
  {
   "cell_type": "code",
   "execution_count": 81,
   "metadata": {},
   "outputs": [],
   "source": [
    "for i in range(len(tokenized_tweet)):\n",
    "    tokenized_tweet[i]=' '.join(tokenized_tweet[i])\n",
    "train['tidy_tweet']=tokenized_tweet"
   ]
  },
  {
   "cell_type": "markdown",
   "metadata": {},
   "source": [
    "# Reducing the dataset"
   ]
  },
  {
   "cell_type": "code",
   "execution_count": 85,
   "metadata": {},
   "outputs": [],
   "source": [
    "train_pos = train[train.label==1]\n",
    "train_neg = train[train.label==0]"
   ]
  },
  {
   "cell_type": "code",
   "execution_count": 108,
   "metadata": {},
   "outputs": [
    {
     "name": "stdout",
     "output_type": "stream",
     "text": [
      "(1000, 4)\n",
      "1    500\n",
      "0    500\n",
      "Name: label, dtype: int64\n"
     ]
    },
    {
     "data": {
      "text/html": [
       "<div>\n",
       "<style scoped>\n",
       "    .dataframe tbody tr th:only-of-type {\n",
       "        vertical-align: middle;\n",
       "    }\n",
       "\n",
       "    .dataframe tbody tr th {\n",
       "        vertical-align: top;\n",
       "    }\n",
       "\n",
       "    .dataframe thead th {\n",
       "        text-align: right;\n",
       "    }\n",
       "</style>\n",
       "<table border=\"1\" class=\"dataframe\">\n",
       "  <thead>\n",
       "    <tr style=\"text-align: right;\">\n",
       "      <th></th>\n",
       "      <th>id</th>\n",
       "      <th>label</th>\n",
       "      <th>tweet</th>\n",
       "      <th>tidy_tweet</th>\n",
       "    </tr>\n",
       "  </thead>\n",
       "  <tbody>\n",
       "    <tr>\n",
       "      <th>13</th>\n",
       "      <td>14</td>\n",
       "      <td>1</td>\n",
       "      <td>@user #cnn calls #michigan middle school 'buil...</td>\n",
       "      <td>#cnn call #michigan middl school build wall ch...</td>\n",
       "    </tr>\n",
       "    <tr>\n",
       "      <th>14</th>\n",
       "      <td>15</td>\n",
       "      <td>1</td>\n",
       "      <td>no comment!  in #australia   #opkillingbay #se...</td>\n",
       "      <td>comment #australia #opkillingbay #seashepherd ...</td>\n",
       "    </tr>\n",
       "    <tr>\n",
       "      <th>17</th>\n",
       "      <td>18</td>\n",
       "      <td>1</td>\n",
       "      <td>retweet if you agree!</td>\n",
       "      <td>retweet agre</td>\n",
       "    </tr>\n",
       "    <tr>\n",
       "      <th>23</th>\n",
       "      <td>24</td>\n",
       "      <td>1</td>\n",
       "      <td>@user @user lumpy says i am a . prove it lumpy.</td>\n",
       "      <td>lumpi say prove lumpi</td>\n",
       "    </tr>\n",
       "    <tr>\n",
       "      <th>34</th>\n",
       "      <td>35</td>\n",
       "      <td>1</td>\n",
       "      <td>it's unbelievable that in the 21st century we'...</td>\n",
       "      <td>unbeliev centuri need someth like #neverump #x...</td>\n",
       "    </tr>\n",
       "  </tbody>\n",
       "</table>\n",
       "</div>"
      ],
      "text/plain": [
       "    id  label                                              tweet  \\\n",
       "13  14      1  @user #cnn calls #michigan middle school 'buil...   \n",
       "14  15      1  no comment!  in #australia   #opkillingbay #se...   \n",
       "17  18      1                             retweet if you agree!    \n",
       "23  24      1    @user @user lumpy says i am a . prove it lumpy.   \n",
       "34  35      1  it's unbelievable that in the 21st century we'...   \n",
       "\n",
       "                                           tidy_tweet  \n",
       "13  #cnn call #michigan middl school build wall ch...  \n",
       "14  comment #australia #opkillingbay #seashepherd ...  \n",
       "17                                       retweet agre  \n",
       "23                              lumpi say prove lumpi  \n",
       "34  unbeliev centuri need someth like #neverump #x...  "
      ]
     },
     "execution_count": 108,
     "metadata": {},
     "output_type": "execute_result"
    }
   ],
   "source": [
    "train_1 = train_pos[:500]\n",
    "train_2 = train_neg[:500]\n",
    "frames = [train_1, train_2]\n",
    "red_train = pd.concat(frames)\n",
    "print(red_train.shape)\n",
    "print(red_train['label'].value_counts())\n",
    "red_train.head()"
   ]
  },
  {
   "cell_type": "code",
   "execution_count": 87,
   "metadata": {},
   "outputs": [
    {
     "data": {
      "text/plain": [
       "<matplotlib.axes._subplots.AxesSubplot at 0x29bd9d8bc50>"
      ]
     },
     "execution_count": 87,
     "metadata": {},
     "output_type": "execute_result"
    },
    {
     "data": {
      "image/png": "[encoded data removed]",
      "text/plain": [
       "<Figure size 432x288 with 1 Axes>"
      ]
     },
     "metadata": {},
     "output_type": "display_data"
    }
   ],
   "source": [
    "sns.countplot(x='label',data=red_train)"
   ]
  },
  {
   "cell_type": "markdown",
   "metadata": {},
   "source": [
    "# Statistics of cleaned tweets"
   ]
  },
  {
   "cell_type": "code",
   "execution_count": 109,
   "metadata": {},
   "outputs": [
    {
     "name": "stdout",
     "output_type": "stream",
     "text": [
      "[74, 101, 22, 47, 104, 39, 110, 87, 77, 129, 82, 106, 112, 111, 98, 63, 111, 133, 101, 108, 103, 47, 100, 111, 63, 81, 127, 120, 83, 121, 90, 90, 88, 98, 119, 119, 57, 42, 68, 97, 82, 122, 29, 73, 63, 109, 99, 50, 52, 111, 116, 80, 88, 77, 62, 109, 111, 104, 89, 46, 96, 131, 110, 63, 111, 105, 58, 96, 91, 106, 133, 108, 103, 129, 74, 67, 120, 124, 103, 125, 120, 86, 97, 80, 141, 67, 114, 115, 68, 130, 93, 40, 111, 110, 120, 105, 83, 117, 99, 90, 55, 124, 34, 132, 97, 116, 42, 107, 104, 123, 61, 74, 110, 101, 118, 40, 99, 124, 91, 76, 103, 98, 49, 72, 69, 96, 52, 123, 112, 137, 77, 29, 100, 90, 63, 99, 60, 43, 115, 35, 121, 34, 29, 108, 99, 86, 120, 116, 57, 126, 107, 107, 65, 118, 26, 61, 63, 98, 96, 61, 80, 116, 119, 102, 63, 99, 38, 91, 123, 95, 136, 49, 61, 121, 106, 111, 38, 115, 110, 121, 132, 90, 81, 112, 36, 94, 39, 132, 84, 82, 121, 78, 63, 50, 70, 118, 26, 74, 77, 99, 118, 109, 50, 66, 62, 113, 111, 108, 42, 46, 63, 78, 127, 110, 84, 119, 63, 69, 103, 109, 94, 102, 44, 118, 119, 97, 106, 86, 70, 60, 104, 89, 109, 120, 113, 122, 102, 118, 12, 101, 43, 104, 69, 104, 87, 85, 73, 61, 118, 91, 65, 110, 91, 93, 29, 29, 68, 135, 131, 81, 101, 105, 117, 115, 47, 94, 99, 112, 103, 118, 110, 110, 57, 75, 88, 87, 80, 53, 126, 54, 15, 125, 106, 124, 56, 104, 130, 75, 76, 101, 89, 106, 61, 112, 87, 121, 124, 106, 89, 99, 119, 110, 68, 106, 71, 114, 101, 124, 123, 58, 113, 116, 131, 96, 78, 116, 104, 113, 107, 58, 112, 136, 30, 110, 47, 104, 110, 61, 115, 111, 125, 63, 99, 120, 122, 95, 117, 127, 78, 112, 70, 35, 89, 51, 112, 50, 131, 53, 110, 113, 120, 133, 102, 106, 30, 71, 100, 64, 44, 99, 104, 97, 122, 119, 103, 108, 110, 126, 64, 42, 61, 105, 98, 64, 130, 112, 106, 115, 69, 105, 81, 95, 116, 137, 115, 86, 91, 58, 102, 101, 28, 41, 121, 108, 110, 89, 92, 125, 134, 86, 130, 69, 99, 133, 116, 78, 62, 124, 69, 64, 96, 114, 91, 76, 65, 44, 19, 128, 107, 87, 86, 105, 113, 96, 129, 117, 119, 63, 106, 84, 78, 64, 41, 128, 62, 127, 116, 110, 85, 100, 61, 118, 102, 114, 132, 51, 105, 66, 79, 61, 89, 74, 118, 90, 120, 99, 54, 36, 75, 48, 98, 82, 116, 86, 120, 81, 47, 129, 72, 125, 126, 117, 106, 69, 73, 117, 81, 84, 110, 119, 99, 121, 118, 91, 91, 122, 100, 121, 118, 121, 121, 126, 43, 96, 68, 116, 110, 110, 125, 94, 102, 122, 21, 86, 39, 116, 74, 143, 87, 50, 111, 133, 51, 56, 58, 78, 58, 127, 70, 100, 95, 79, 127, 72, 43, 135, 125, 87, 122, 106, 109, 46, 126, 95, 52, 97, 104, 62, 84, 95, 47, 86, 46, 29, 71, 76, 105, 71, 39, 92, 68, 87, 99, 76, 104, 110, 64, 33, 129, 54, 73, 69, 95, 72, 68, 118, 128, 29, 73, 65, 105, 111, 65, 116, 136, 88, 36, 64, 132, 100, 45, 101, 35, 115, 132, 112, 114, 86, 46, 69, 64, 43, 131, 92, 92, 25, 56, 133, 107, 81, 56, 83, 74, 73, 85, 78, 86, 86, 66, 68, 109, 72, 69, 78, 47, 83, 104, 92, 112, 98, 96, 76, 117, 120, 98, 118, 139, 112, 76, 88, 78, 123, 64, 96, 36, 115, 123, 135, 82, 92, 80, 78, 116, 103, 83, 122, 43, 63, 86, 41, 45, 104, 91, 109, 48, 98, 135, 47, 38, 120, 129, 107, 88, 65, 112, 95, 125, 71, 91, 106, 110, 79, 98, 140, 49, 94, 94, 94, 109, 103, 107, 109, 51, 100, 89, 63, 44, 48, 55, 57, 37, 91, 95, 120, 106, 73, 30, 90, 65, 128, 67, 86, 132, 84, 134, 47, 109, 63, 116, 109, 55, 56, 69, 49, 128, 98, 95, 94, 80, 100, 39, 97, 56, 87, 85, 62, 103, 82, 116, 25, 34, 60, 105, 67, 58, 93, 109, 86, 89, 134, 35, 90, 88, 115, 72, 47, 60, 86, 103, 33, 97, 61, 71, 113, 52, 72, 82, 115, 101, 86, 58, 43, 108, 88, 126, 58, 88, 112, 91, 105, 76, 58, 115, 106, 108, 100, 48, 120, 88, 129, 101, 31, 53, 23, 111, 130, 83, 108, 62, 54, 39, 52, 82, 115, 140, 75, 48, 125, 39, 48, 114, 112, 93, 111, 80, 86, 132, 100, 86, 92, 108, 146, 50, 45, 92, 109, 37, 94, 109, 103, 26, 88, 96, 70, 89, 66, 80, 57, 93, 96, 53, 25, 119, 88, 137, 65, 88, 47, 76, 38, 57, 57, 113, 39, 90, 130, 93, 95, 49, 86, 88, 130, 87, 42, 119, 107, 19, 85, 45, 60, 86, 116, 19, 92, 65, 106, 46, 92, 67, 107, 90, 92, 23, 68, 47, 76, 45, 96, 69, 31, 98, 81, 68, 95, 108, 106, 65, 83, 87, 60, 94, 80, 58, 67, 108, 62, 92, 100, 136, 126, 79, 57, 58, 145, 135, 115, 112, 110, 104, 111, 70, 88, 107, 43, 112, 86, 72, 91, 49, 62, 54, 89, 109, 48, 71, 80, 106, 116, 102, 108, 104, 49, 86, 71, 58, 48, 48, 97, 131, 47, 108, 115, 54, 141, 40, 68, 114, 116, 66, 116, 129, 80, 50, 97, 88, 41, 54, 107, 77, 120, 86, 125, 113, 48, 86, 75, 126, 30, 90, 78, 106, 57, 37, 20, 97, 129, 77, 69, 104, 82, 115, 136, 97, 60, 34, 81, 75, 82, 60, 81, 29, 131, 86, 107, 29, 107, 88, 109, 18, 121]\n",
      "[ 74 101  22  47 104  39 110  87  77 129  82 106 112 111  98  63 111 133\n",
      " 101 108 103  47 100 111  63  81 127 120  83 121  90  90  88  98 119 119\n",
      "  57  42  68  97  82 122  29  73  63 109  99  50  52 111 116  80  88  77\n",
      "  62 109 111 104  89  46  96 131 110  63 111 105  58  96  91 106 133 108\n",
      " 103 129  74  67 120 124 103 125 120  86  97  80 141  67 114 115  68 130\n",
      "  93  40 111 110 120 105  83 117  99  90  55 124  34 132  97 116  42 107\n",
      " 104 123  61  74 110 101 118  40  99 124  91  76 103  98  49  72  69  96\n",
      "  52 123 112 137  77  29 100  90  63  99  60  43 115  35 121  34  29 108\n",
      "  99  86 120 116  57 126 107 107  65 118  26  61  63  98  96  61  80 116\n",
      " 119 102  63  99  38  91 123  95 136  49  61 121 106 111  38 115 110 121\n",
      " 132  90  81 112  36  94  39 132  84  82 121  78  63  50  70 118  26  74\n",
      "  77  99 118 109  50  66  62 113 111 108  42  46  63  78 127 110  84 119\n",
      "  63  69 103 109  94 102  44 118 119  97 106  86  70  60 104  89 109 120\n",
      " 113 122 102 118  12 101  43 104  69 104  87  85  73  61 118  91  65 110\n",
      "  91  93  29  29  68 135 131  81 101 105 117 115  47  94  99 112 103 118\n",
      " 110 110  57  75  88  87  80  53 126  54  15 125 106 124  56 104 130  75\n",
      "  76 101  89 106  61 112  87 121 124 106  89  99 119 110  68 106  71 114\n",
      " 101 124 123  58 113 116 131  96  78 116 104 113 107  58 112 136  30 110\n",
      "  47 104 110  61 115 111 125  63  99 120 122  95 117 127  78 112  70  35\n",
      "  89  51 112  50 131  53 110 113 120 133 102 106  30  71 100  64  44  99\n",
      " 104  97 122 119 103 108 110 126  64  42  61 105  98  64 130 112 106 115\n",
      "  69 105  81  95 116 137 115  86  91  58 102 101  28  41 121 108 110  89\n",
      "  92 125 134  86 130  69  99 133 116  78  62 124  69  64  96 114  91  76\n",
      "  65  44  19 128 107  87  86 105 113  96 129 117 119  63 106  84  78  64\n",
      "  41 128  62 127 116 110  85 100  61 118 102 114 132  51 105  66  79  61\n",
      "  89  74 118  90 120  99  54  36  75  48  98  82 116  86 120  81  47 129\n",
      "  72 125 126 117 106  69  73 117  81  84 110 119  99 121 118  91  91 122\n",
      " 100 121 118 121 121 126  43  96  68 116 110 110 125  94 102 122  21  86\n",
      "  39 116  74 143  87  50 111 133  51  56  58  78  58 127  70 100  95  79\n",
      " 127  72  43 135 125  87 122 106 109  46 126  95  52  97 104  62  84  95\n",
      "  47  86  46  29  71  76 105  71  39  92  68  87  99  76 104 110  64  33\n",
      " 129  54  73  69  95  72  68 118 128  29  73  65 105 111  65 116 136  88\n",
      "  36  64 132 100  45 101  35 115 132 112 114  86  46  69  64  43 131  92\n",
      "  92  25  56 133 107  81  56  83  74  73  85  78  86  86  66  68 109  72\n",
      "  69  78  47  83 104  92 112  98  96  76 117 120  98 118 139 112  76  88\n",
      "  78 123  64  96  36 115 123 135  82  92  80  78 116 103  83 122  43  63\n",
      "  86  41  45 104  91 109  48  98 135  47  38 120 129 107  88  65 112  95\n",
      " 125  71  91 106 110  79  98 140  49  94  94  94 109 103 107 109  51 100\n",
      "  89  63  44  48  55  57  37  91  95 120 106  73  30  90  65 128  67  86\n",
      " 132  84 134  47 109  63 116 109  55  56  69  49 128  98  95  94  80 100\n",
      "  39  97  56  87  85  62 103  82 116  25  34  60 105  67  58  93 109  86\n",
      "  89 134  35  90  88 115  72  47  60  86 103  33  97  61  71 113  52  72\n",
      "  82 115 101  86  58  43 108  88 126  58  88 112  91 105  76  58 115 106\n",
      " 108 100  48 120  88 129 101  31  53  23 111 130  83 108  62  54  39  52\n",
      "  82 115 140  75  48 125  39  48 114 112  93 111  80  86 132 100  86  92\n",
      " 108 146  50  45  92 109  37  94 109 103  26  88  96  70  89  66  80  57\n",
      "  93  96  53  25 119  88 137  65  88  47  76  38  57  57 113  39  90 130\n",
      "  93  95  49  86  88 130  87  42 119 107  19  85  45  60  86 116  19  92\n",
      "  65 106  46  92  67 107  90  92  23  68  47  76  45  96  69  31  98  81\n",
      "  68  95 108 106  65  83  87  60  94  80  58  67 108  62  92 100 136 126\n",
      "  79  57  58 145 135 115 112 110 104 111  70  88 107  43 112  86  72  91\n",
      "  49  62  54  89 109  48  71  80 106 116 102 108 104  49  86  71  58  48\n",
      "  48  97 131  47 108 115  54 141  40  68 114 116  66 116 129  80  50  97\n",
      "  88  41  54 107  77 120  86 125 113  48  86  75 126  30  90  78 106  57\n",
      "  37  20  97 129  77  69 104  82 115 136  97  60  34  81  75  82  60  81\n",
      "  29 131  86 107  29 107  88 109  18 121]\n",
      "mean of the length of words: 88.336\n",
      "median of the length of words: 92.0\n",
      "max of the length of words: 146\n",
      "min of the length of words: 12\n"
     ]
    },
    {
     "data": {
      "image/png": "[encoded data removed]",
      "text/plain": [
       "<Figure size 432x288 with 1 Axes>"
      ]
     },
     "metadata": {},
     "output_type": "display_data"
    }
   ],
   "source": [
    "arr1 = []\n",
    "for i in red_train['tweet']:\n",
    "    arr1.append(len(str(i)))\n",
    "print(arr1)\n",
    "arr1nd =np.array(arr1)\n",
    "print(arr1nd)\n",
    "print(\"mean of the length of words: {}\".format(np.mean(arr1nd)))\n",
    "print(\"median of the length of words: {}\".format(np.median(arr1nd)))\n",
    "print(\"max of the length of words: {}\".format(np.max(arr1nd)))\n",
    "print(\"min of the length of words: {}\".format(np.min(arr1nd)))\n",
    "plt.plot(arr1nd)\n",
    "plt.xlabel(\"no of reviews\")\n",
    "plt.ylabel(\"no of words\")\n",
    "plt.show()"
   ]
  },
  {
   "cell_type": "markdown",
   "metadata": {},
   "source": [
    "# Applying bag-of-words on the text"
   ]
  },
  {
   "cell_type": "code",
   "execution_count": 89,
   "metadata": {},
   "outputs": [],
   "source": [
    "warnings.filterwarnings('ignore')\n",
    "from sklearn.feature_extraction.text import CountVectorizer,TfidfVectorizer\n",
    "import gensim"
   ]
  },
  {
   "cell_type": "code",
   "execution_count": 90,
   "metadata": {},
   "outputs": [],
   "source": [
    "bow_vec=CountVectorizer()\n",
    "bow=bow_vec.fit_transform(red_train['tidy_tweet'])  "
   ]
  },
  {
   "cell_type": "code",
   "execution_count": 91,
   "metadata": {},
   "outputs": [
    {
     "name": "stdout",
     "output_type": "stream",
     "text": [
      "(1000, 3068) (1000,)\n"
     ]
    }
   ],
   "source": [
    "print(bow.shape,red_train['label'].shape)\n",
    "from scipy.sparse import csr_matrix \n",
    "bow = csr_matrix(bow).toarray()\n",
    "#red_train['label']"
   ]
  },
  {
   "cell_type": "markdown",
   "metadata": {},
   "source": [
    "##  Splitting dataset into test and train after bow"
   ]
  },
  {
   "cell_type": "code",
   "execution_count": 168,
   "metadata": {},
   "outputs": [],
   "source": [
    "from sklearn.model_selection import train_test_split\n",
    "x_train,x_test,y_train,y_test=train_test_split(bow,red_train['label'],test_size=0.2,random_state=41)"
   ]
  },
  {
   "cell_type": "markdown",
   "metadata": {},
   "source": [
    "## Fitting naive bayes to data after applying bow"
   ]
  },
  {
   "cell_type": "code",
   "execution_count": 93,
   "metadata": {},
   "outputs": [
    {
     "name": "stdout",
     "output_type": "stream",
     "text": [
      "the training accuracy with naive bayes is:0.9925\n",
      "the testing accuracy with naive bayes is:0.78\n",
      "the f1 score for training data:0.9927710843373494\n",
      "the f1 score for testing data:0.7317073170731707\n"
     ]
    }
   ],
   "source": [
    "from sklearn.metrics import accuracy_score\n",
    "from sklearn.metrics import f1_score\n",
    "from sklearn.naive_bayes import GaussianNB\n",
    "naive=GaussianNB()\n",
    "naive.fit(x_train,y_train)\n",
    "pred1=naive.predict(x_train)\n",
    "pred2=naive.predict(x_test)\n",
    "acc1=accuracy_score(y_train,pred1)\n",
    "print(\"the training accuracy with naive bayes is:{}\".format(acc1))\n",
    "acc2=accuracy_score(y_test,pred2)\n",
    "print('the testing accuracy with naive bayes is:{}'.format(acc2))\n",
    "f1 = f1_score(y_train,pred1)\n",
    "print('the f1 score for training data:{}'.format(f1))\n",
    "f2 = f1_score(y_test,pred2)\n",
    "print('the f1 score for testing data:{}'.format(f2))\n"
   ]
  },
  {
   "cell_type": "markdown",
   "metadata": {},
   "source": [
    "## Fitting knn"
   ]
  },
  {
   "cell_type": "code",
   "execution_count": 94,
   "metadata": {},
   "outputs": [
    {
     "data": {
      "text/plain": [
       "{'n_neighbors': 1}"
      ]
     },
     "execution_count": 94,
     "metadata": {},
     "output_type": "execute_result"
    }
   ],
   "source": [
    "from sklearn.model_selection import GridSearchCV\n",
    "from sklearn.neighbors import KNeighborsClassifier\n",
    "parameters = {'n_neighbors':[1,2,3,4,5,6,7,8,9,10]}\n",
    "neigh = KNeighborsClassifier()\n",
    "clf = GridSearchCV(neigh, parameters, cv=5, scoring=\"accuracy\")\n",
    "clf.fit(x_train,y_train)\n",
    "clf.best_params_"
   ]
  },
  {
   "cell_type": "code",
   "execution_count": 95,
   "metadata": {},
   "outputs": [
    {
     "name": "stdout",
     "output_type": "stream",
     "text": [
      "the training accuracy with KNN was:1.0\n",
      "the teesting accuracy with KNN was:0.665\n",
      "the f1 score for training data:1.0\n",
      "the f1 score for testing data:0.524822695035461\n"
     ]
    }
   ],
   "source": [
    "neigh = KNeighborsClassifier(n_neighbors=1,)\n",
    "neigh.fit(x_train,y_train)\n",
    "pred3=neigh.predict(x_train)\n",
    "acc3=accuracy_score(pred3,y_train)\n",
    "print(\"the training accuracy with KNN was:{}\".format(acc3))\n",
    "pred4=neigh.predict(x_test)\n",
    "acc4=accuracy_score(pred4,y_test)\n",
    "print(\"the teesting accuracy with KNN was:{}\".format(acc4))\n",
    "f3= f1_score(y_train,pred3)\n",
    "print('the f1 score for training data:{}'.format(f3))\n",
    "f4 = f1_score(y_test,pred4)\n",
    "print('the f1 score for testing data:{}'.format(f4))"
   ]
  },
  {
   "cell_type": "markdown",
   "metadata": {},
   "source": [
    "## Fitting logistic regression"
   ]
  },
  {
   "cell_type": "code",
   "execution_count": 169,
   "metadata": {},
   "outputs": [
    {
     "data": {
      "text/plain": [
       "{'C': 0.1, 'penalty': 'l2'}"
      ]
     },
     "execution_count": 169,
     "metadata": {},
     "output_type": "execute_result"
    }
   ],
   "source": [
    "from sklearn.linear_model import LogisticRegression\n",
    "parameters = {'penalty':[\"l1\",\"l2\"],\n",
    "             'C':[0.0001, 0.001, 0.01, 0.1, 1, 10],\n",
    "             }\n",
    "logi = LogisticRegression()\n",
    "clf = GridSearchCV(logi, parameters, cv=5, scoring=\"accuracy\")\n",
    "clf.fit(x_train,y_train)\n",
    "clf.best_params_"
   ]
  },
  {
   "cell_type": "code",
   "execution_count": 172,
   "metadata": {},
   "outputs": [
    {
     "name": "stdout",
     "output_type": "stream",
     "text": [
      "the training accuracy with logistic Regression is:0.96875\n",
      "the testing accuracy with logistic Regression is:0.815\n",
      "the f1 score for training data:0.970131421744325\n",
      "the f1 score for testing data:0.8021390374331552\n",
      "confusion matrix is [[88  7]\n",
      " [30 75]]\n",
      "             precision    recall  f1-score   support\n",
      "\n",
      "          0       0.75      0.93      0.83        95\n",
      "          1       0.91      0.71      0.80       105\n",
      "\n",
      "avg / total       0.83      0.81      0.81       200\n",
      "\n"
     ]
    }
   ],
   "source": [
    "from sklearn.linear_model import LogisticRegression\n",
    "log = LogisticRegression(C=0.1, penalty=\"l2\")\n",
    "log.fit(x_train,y_train)\n",
    "pred5=log.predict(x_train)\n",
    "acc5=accuracy_score(pred5,y_train)\n",
    "print(\"the training accuracy with logistic Regression is:{}\".format(acc5))\n",
    "pred6=log.predict(x_test)\n",
    "acc6=accuracy_score(pred6,y_test)\n",
    "print(\"the testing accuracy with logistic Regression is:{}\".format(acc6))\n",
    "f5 = f1_score(y_train,pred5)\n",
    "print('the f1 score for training data:{}'.format(f5))\n",
    "f6 = f1_score(y_test,pred6)\n",
    "print('the f1 score for testing data:{}'.format(f6))\n",
    "from sklearn.metrics import confusion_matrix\n",
    "con = confusion_matrix(pred6,y_test)\n",
    "print(\"confusion matrix is {}\".format(con))\n",
    "from sklearn.metrics import classification_report\n",
    "print(classification_report(pred6, y_test))"
   ]
  },
  {
   "cell_type": "code",
   "execution_count": 173,
   "metadata": {},
   "outputs": [
    {
     "name": "stdout",
     "output_type": "stream",
     "text": [
      "the training accuracy with 76 is:1.0\n",
      "the testing accuracy with 76 is:0.835\n",
      "the training accuracy with 5 is:1.0\n",
      "the testing accuracy with 5 is:0.835\n",
      "the training accuracy with 9 is:1.0\n",
      "the testing accuracy with 9 is:0.835\n",
      "the training accuracy with 34 is:1.0\n",
      "the testing accuracy with 34 is:0.835\n",
      "the training accuracy with 62 is:1.0\n",
      "the testing accuracy with 62 is:0.835\n",
      "the training accuracy with 19 is:1.0\n",
      "the testing accuracy with 19 is:0.835\n"
     ]
    }
   ],
   "source": [
    "rand=[76,5,9,34,62,19]\n",
    "for i in rand:\n",
    "    log = LogisticRegression(C=10, penalty=\"l2\",random_state=i)\n",
    "    log.fit(x_train,y_train)\n",
    "    pred5=log.predict(x_train)\n",
    "    acc5=accuracy_score(pred5,y_train)\n",
    "    print(\"the training accuracy with {} is:{}\".format(i,acc5))\n",
    "    pred6=log.predict(x_test)\n",
    "    acc6=accuracy_score(pred6,y_test)\n",
    "    print(\"the testing accuracy with {} is:{}\".format(i,acc6))"
   ]
  },
  {
   "cell_type": "markdown",
   "metadata": {},
   "source": [
    "## Fitting decision tree"
   ]
  },
  {
   "cell_type": "code",
   "execution_count": 98,
   "metadata": {},
   "outputs": [
    {
     "data": {
      "text/plain": [
       "{'criterion': 'gini',\n",
       " 'max_depth': 8,\n",
       " 'min_samples_leaf': 1,\n",
       " 'min_samples_split': 3}"
      ]
     },
     "execution_count": 98,
     "metadata": {},
     "output_type": "execute_result"
    }
   ],
   "source": [
    "from sklearn import tree\n",
    "dec_tree = tree.DecisionTreeClassifier()\n",
    "parameters = {'criterion':[\"gini\", \"entropy\"],\n",
    "             'max_depth':[2,3,4,5,6,7,8],\n",
    "             'min_samples_split':[2,3,4],\n",
    "             'min_samples_leaf':[1,2,3,4]}\n",
    "clf = GridSearchCV(dec_tree, parameters, cv=5, scoring=\"accuracy\")\n",
    "clf.fit(x_train,y_train)\n",
    "clf.best_params_"
   ]
  },
  {
   "cell_type": "code",
   "execution_count": 99,
   "metadata": {},
   "outputs": [
    {
     "name": "stdout",
     "output_type": "stream",
     "text": [
      "the training accuracy with decision tree is:0.6425\n",
      "the testing accuracy with decission tree was:0.71\n",
      "the f1 score for training data:0.4799999999999999\n",
      "the f1 score for testing data:0.45283018867924524\n"
     ]
    }
   ],
   "source": [
    "from sklearn import tree\n",
    "dec_tree= tree.DecisionTreeClassifier(criterion=\"gini\", max_depth=8, min_samples_leaf=1, min_samples_split=4)\n",
    "dec_tree.fit(x_train,y_train)\n",
    "pred7=dec_tree.predict(x_train)\n",
    "acc7=accuracy_score(pred7,y_train)\n",
    "print(\"the training accuracy with decision tree is:{}\".format(acc7))\n",
    "pred8=dec_tree.predict(x_test)\n",
    "acc8=accuracy_score(pred8,y_test)\n",
    "print(\"the testing accuracy with decission tree was:{}\".format(acc8))\n",
    "f7 = f1_score(y_train,pred7)\n",
    "print('the f1 score for training data:{}'.format(f7))\n",
    "f8 = f1_score(y_test,pred8)\n",
    "print('the f1 score for testing data:{}'.format(f8))"
   ]
  },
  {
   "cell_type": "markdown",
   "metadata": {},
   "source": [
    "## Fitting random forest"
   ]
  },
  {
   "cell_type": "code",
   "execution_count": 100,
   "metadata": {},
   "outputs": [
    {
     "data": {
      "text/plain": [
       "{'max_depth': 8, 'n_estimators': 200}"
      ]
     },
     "execution_count": 100,
     "metadata": {},
     "output_type": "execute_result"
    }
   ],
   "source": [
    "from sklearn.ensemble import RandomForestClassifier \n",
    "random = RandomForestClassifier()\n",
    "parameters = {'n_estimators':[20, 40, 60, 80, 100, 150, 200, 250, 300],\n",
    "             'max_depth':[2,3,4,5,6,7,8]}\n",
    "clf = GridSearchCV(random, parameters, cv=5, scoring=\"accuracy\") \n",
    "clf.fit(x_train,y_train)\n",
    "clf.best_params_"
   ]
  },
  {
   "cell_type": "code",
   "execution_count": 101,
   "metadata": {},
   "outputs": [
    {
     "name": "stdout",
     "output_type": "stream",
     "text": [
      "\n",
      "Train accuracy for n_estimators = 200 is 79%\n",
      "\n",
      "Train fscore for n_estimators = 200 is 0%\n",
      "\n",
      "Test accuracy for n_estimators = 200 is 67%\n",
      "\n",
      "Test fscore for n_estimators = 200 is 0%\n"
     ]
    }
   ],
   "source": [
    "from sklearn.ensemble import RandomForestClassifier \n",
    "random = RandomForestClassifier(n_estimators=200, max_depth=8) \n",
    "random.fit(x_train,y_train)   \n",
    "pred9 = random.predict(x_train)   \n",
    "acc9 = accuracy_score(y_train, pred9, normalize=True) * float(100)   \n",
    "print('\\nTrain accuracy for n_estimators = %d is %d%%' % (200, acc9))\n",
    "f9 = f1_score(y_train,pred9)\n",
    "print('\\nTrain fscore for n_estimators = %d is %d%%' % (200, f9))\n",
    "pred10 = random.predict(x_test)   \n",
    "acc10 = accuracy_score(y_test, pred10, normalize=True) * float(100)   \n",
    "print('\\nTest accuracy for n_estimators = %d is %d%%' % (200, acc10))\n",
    "f10 = f1_score(y_test,pred10)\n",
    "print('\\nTest fscore for n_estimators = %d is %d%%' % (200, f10))"
   ]
  },
  {
   "cell_type": "markdown",
   "metadata": {},
   "source": [
    "## Testing on new data\n"
   ]
  },
  {
   "cell_type": "code",
   "execution_count": 102,
   "metadata": {},
   "outputs": [],
   "source": [
    "a=['&amp; #love &amp; #hugs &amp; #kisses too! how to keep your #baby     #parenting #healthcare']\n",
    "a=bow_vec.transform(a)"
   ]
  },
  {
   "cell_type": "code",
   "execution_count": 103,
   "metadata": {},
   "outputs": [
    {
     "data": {
      "text/plain": [
       "sklearn.feature_extraction.text.CountVectorizer"
      ]
     },
     "execution_count": 103,
     "metadata": {},
     "output_type": "execute_result"
    }
   ],
   "source": [
    "a.shape\n",
    "type(bow_vec)"
   ]
  },
  {
   "cell_type": "code",
   "execution_count": 104,
   "metadata": {},
   "outputs": [],
   "source": [
    "al=random.predict(a)"
   ]
  },
  {
   "cell_type": "code",
   "execution_count": 112,
   "metadata": {},
   "outputs": [
    {
     "name": "stdout",
     "output_type": "stream",
     "text": [
      "[0]\n"
     ]
    }
   ],
   "source": [
    "print(al)"
   ]
  },
  {
   "cell_type": "code",
   "execution_count": 113,
   "metadata": {},
   "outputs": [],
   "source": [
    "\n",
    "al=log.predict(a)"
   ]
  },
  {
   "cell_type": "code",
   "execution_count": 114,
   "metadata": {},
   "outputs": [
    {
     "name": "stdout",
     "output_type": "stream",
     "text": [
      "[0]\n"
     ]
    }
   ],
   "source": [
    "print(al)"
   ]
  },
  {
   "cell_type": "code",
   "execution_count": 115,
   "metadata": {},
   "outputs": [
    {
     "name": "stdout",
     "output_type": "stream",
     "text": [
      "[0]\n"
     ]
    }
   ],
   "source": [
    "al=dec_tree.predict(a)\n",
    "print(al)"
   ]
  },
  {
   "cell_type": "code",
   "execution_count": 116,
   "metadata": {},
   "outputs": [
    {
     "name": "stdout",
     "output_type": "stream",
     "text": [
      "[0]\n"
     ]
    }
   ],
   "source": [
    "al=naive.predict(a.toarray())\n",
    "print(al)"
   ]
  },
  {
   "cell_type": "code",
   "execution_count": 117,
   "metadata": {},
   "outputs": [
    {
     "name": "stdout",
     "output_type": "stream",
     "text": [
      "[0]\n"
     ]
    }
   ],
   "source": [
    "al=neigh.predict(a.toarray())\n",
    "print(al)"
   ]
  },
  {
   "cell_type": "markdown",
   "metadata": {},
   "source": [
    "# Applying Tf-Idf on the tweets"
   ]
  },
  {
   "cell_type": "code",
   "execution_count": 118,
   "metadata": {},
   "outputs": [
    {
     "name": "stdout",
     "output_type": "stream",
     "text": [
      "(1000, 3068)\n"
     ]
    }
   ],
   "source": [
    "from sklearn.feature_extraction.text import TfidfVectorizer\n",
    "vectorizer = TfidfVectorizer()\n",
    "tf_idf_vec = vectorizer.fit_transform(red_train['tidy_tweet'])\n",
    "tf_idf = csr_matrix(tf_idf_vec).toarray()\n",
    "#print(vectorizer.get_feature_names())\n",
    "print(tf_idf.shape)"
   ]
  },
  {
   "cell_type": "code",
   "execution_count": 178,
   "metadata": {},
   "outputs": [],
   "source": [
    "x_train,x_test,y_train,y_test=train_test_split(tf_idf,red_train['label'],test_size=0.2,random_state=41)"
   ]
  },
  {
   "cell_type": "markdown",
   "metadata": {},
   "source": [
    "## Fitting naive bayes"
   ]
  },
  {
   "cell_type": "code",
   "execution_count": 120,
   "metadata": {},
   "outputs": [
    {
     "name": "stdout",
     "output_type": "stream",
     "text": [
      "the training accuracy with naive bayes is:0.99375\n",
      "the testing accuracy with naive bayes is:0.775\n",
      "the f1 score for training data:0.9939831528279182\n",
      "the f1 score for testing data:0.739884393063584\n"
     ]
    }
   ],
   "source": [
    "naive=GaussianNB()\n",
    "naive.fit(x_train,y_train)\n",
    "pred1=naive.predict(x_train)\n",
    "pred2=naive.predict(x_test)\n",
    "acc1=accuracy_score(y_train,pred1)\n",
    "print(\"the training accuracy with naive bayes is:{}\".format(acc1))\n",
    "acc2=accuracy_score(y_test,pred2)\n",
    "print('the testing accuracy with naive bayes is:{}'.format(acc2))\n",
    "f1 = f1_score(y_train,pred1)\n",
    "print('the f1 score for training data:{}'.format(f1))\n",
    "f2 = f1_score(y_test,pred2)\n",
    "print('the f1 score for testing data:{}'.format(f2))\n"
   ]
  },
  {
   "cell_type": "markdown",
   "metadata": {},
   "source": [
    "## Fitting knn"
   ]
  },
  {
   "cell_type": "code",
   "execution_count": 121,
   "metadata": {},
   "outputs": [
    {
     "data": {
      "text/plain": [
       "{'n_neighbors': 7}"
      ]
     },
     "execution_count": 121,
     "metadata": {},
     "output_type": "execute_result"
    }
   ],
   "source": [
    "parameters = {'n_neighbors':[1,2,3,4,5,6,7,8,9,10]}\n",
    "neigh = KNeighborsClassifier()\n",
    "clf = GridSearchCV(neigh, parameters, cv=5, scoring=\"accuracy\")\n",
    "clf.fit(x_train,y_train)\n",
    "clf.best_params_"
   ]
  },
  {
   "cell_type": "code",
   "execution_count": 122,
   "metadata": {},
   "outputs": [
    {
     "name": "stdout",
     "output_type": "stream",
     "text": [
      "the training accuracy with KNN was:0.85625\n",
      "the teesting accuracy with KNN was:0.765\n",
      "the f1 score for training data:0.8629320619785458\n",
      "the f1 score for testing data:0.7486631016042781\n"
     ]
    }
   ],
   "source": [
    "neigh = KNeighborsClassifier(n_neighbors=7,)\n",
    "neigh.fit(x_train,y_train)\n",
    "pred3=neigh.predict(x_train)\n",
    "acc3=accuracy_score(pred3,y_train)\n",
    "print(\"the training accuracy with KNN was:{}\".format(acc3))\n",
    "pred4=neigh.predict(x_test)\n",
    "acc4=accuracy_score(pred4,y_test)\n",
    "print(\"the teesting accuracy with KNN was:{}\".format(acc4))\n",
    "f3= f1_score(y_train,pred3)\n",
    "print('the f1 score for training data:{}'.format(f3))\n",
    "f4 = f1_score(y_test,pred4)\n",
    "print('the f1 score for testing data:{}'.format(f4))"
   ]
  },
  {
   "cell_type": "markdown",
   "metadata": {},
   "source": [
    "\n",
    "## Fitting Logistic regression "
   ]
  },
  {
   "cell_type": "code",
   "execution_count": 179,
   "metadata": {},
   "outputs": [
    {
     "data": {
      "text/plain": [
       "{'C': 10, 'penalty': 'l2'}"
      ]
     },
     "execution_count": 179,
     "metadata": {},
     "output_type": "execute_result"
    }
   ],
   "source": [
    "parameters = {'penalty':[\"l1\",\"l2\"],\n",
    "             'C':[0.0001, 0.001, 0.01, 0.1, 1, 10],\n",
    "             }\n",
    "logi = LogisticRegression()\n",
    "clf = GridSearchCV(logi, parameters, cv=5, scoring=\"accuracy\")\n",
    "clf.fit(x_train,y_train)\n",
    "clf.best_params_"
   ]
  },
  {
   "cell_type": "code",
   "execution_count": 124,
   "metadata": {},
   "outputs": [
    {
     "name": "stdout",
     "output_type": "stream",
     "text": [
      "the training accuracy with logistic Regression is:0.9975\n",
      "the testing accuracy with logistic Regression is:0.835\n",
      "the f1 score for training data:0.9976076555023924\n",
      "the f1 score for testing data:0.8135593220338984\n",
      "confusion matrix is [[95 10]\n",
      " [23 72]]\n",
      "             precision    recall  f1-score   support\n",
      "\n",
      "          0       0.81      0.90      0.85       105\n",
      "          1       0.88      0.76      0.81        95\n",
      "\n",
      "avg / total       0.84      0.83      0.83       200\n",
      "\n"
     ]
    }
   ],
   "source": [
    "log = LogisticRegression(C=10, penalty=\"l2\")\n",
    "log.fit(x_train,y_train)\n",
    "pred5=log.predict(x_train)\n",
    "#plot_decision_boundary(lambda x: log.predict(x))\n",
    "#plt.title(\"Logistic Regression\")\n",
    "acc5=accuracy_score(pred5,y_train)\n",
    "print(\"the training accuracy with logistic Regression is:{}\".format(acc5))\n",
    "pred6=log.predict(x_test)\n",
    "acc6=accuracy_score(pred6,y_test)\n",
    "print(\"the testing accuracy with logistic Regression is:{}\".format(acc6))\n",
    "f5 = f1_score(y_train,pred5)\n",
    "print('the f1 score for training data:{}'.format(f5))\n",
    "f6 = f1_score(y_test,pred6)\n",
    "print('the f1 score for testing data:{}'.format(f6))\n",
    "from sklearn.metrics import confusion_matrix\n",
    "con = confusion_matrix(pred6,y_test)\n",
    "print(\"confusion matrix is {}\".format(con))\n",
    "from sklearn.metrics import classification_report\n",
    "print(classification_report(pred6, y_test))"
   ]
  },
  {
   "cell_type": "code",
   "execution_count": null,
   "metadata": {},
   "outputs": [],
   "source": [
    "for i in rand_lst:\n",
    "    log = LogisticRegression(C=10, penalty=\"l2\",random_state=i)\n",
    "    log.fit(x_train,y_train)\n",
    "    pred5=log.predict(x_train)\n",
    "    acc5=accuracy_score(pred5,y_train)\n",
    "    print(\"the training accuracy with {} is:{}\".format(i,acc5))\n",
    "    pred6=log.predict(x_test)\n",
    "    acc6=accuracy_score(pred6,y_test)\n",
    "    print(\"the testing accuracy with {} is:{}\".format(i,acc6))"
   ]
  },
  {
   "cell_type": "markdown",
   "metadata": {},
   "source": [
    "## Fitting decision tree"
   ]
  },
  {
   "cell_type": "code",
   "execution_count": 125,
   "metadata": {},
   "outputs": [
    {
     "data": {
      "text/plain": [
       "{'criterion': 'gini',\n",
       " 'max_depth': 8,\n",
       " 'min_samples_leaf': 1,\n",
       " 'min_samples_split': 2}"
      ]
     },
     "execution_count": 125,
     "metadata": {},
     "output_type": "execute_result"
    }
   ],
   "source": [
    "dec_tree = tree.DecisionTreeClassifier()\n",
    "parameters = {'criterion':[\"gini\", \"entropy\"],\n",
    "             'max_depth':[2,3,4,5,6,7,8],\n",
    "             'min_samples_split':[2,3,4],\n",
    "             'min_samples_leaf':[1,2,3,4]}\n",
    "clf = GridSearchCV(dec_tree, parameters, cv=5, scoring=\"accuracy\")\n",
    "clf.fit(x_train,y_train)\n",
    "clf.best_params_"
   ]
  },
  {
   "cell_type": "code",
   "execution_count": 126,
   "metadata": {},
   "outputs": [
    {
     "name": "stdout",
     "output_type": "stream",
     "text": [
      "the training accuracy with decision tree is:0.6575\n",
      "the testing accuracy with decission tree is:0.725\n",
      "the f1 score for training data:0.5124555160142349\n",
      "the f1 score for testing data:0.4954128440366972\n"
     ]
    }
   ],
   "source": [
    "dec_tree= tree.DecisionTreeClassifier(criterion=\"gini\", max_depth=8, min_samples_leaf=1, min_samples_split=4)\n",
    "dec_tree.fit(x_train,y_train)\n",
    "pred7=dec_tree.predict(x_train)\n",
    "acc7=accuracy_score(pred7,y_train)\n",
    "print(\"the training accuracy with decision tree is:{}\".format(acc7))\n",
    "pred8=dec_tree.predict(x_test)\n",
    "acc8=accuracy_score(pred8,y_test)\n",
    "print(\"the testing accuracy with decission tree is:{}\".format(acc8))\n",
    "f7 = f1_score(y_train,pred7)\n",
    "print('the f1 score for training data:{}'.format(f7))\n",
    "f8 = f1_score(y_test,pred8)\n",
    "print('the f1 score for testing data:{}'.format(f8))"
   ]
  },
  {
   "cell_type": "markdown",
   "metadata": {},
   "source": [
    "## Fitting random forest"
   ]
  },
  {
   "cell_type": "code",
   "execution_count": 127,
   "metadata": {},
   "outputs": [
    {
     "data": {
      "text/plain": [
       "{'max_depth': 8, 'n_estimators': 200}"
      ]
     },
     "execution_count": 127,
     "metadata": {},
     "output_type": "execute_result"
    }
   ],
   "source": [
    "random = RandomForestClassifier()\n",
    "parameters = {'n_estimators':[20, 40, 60, 80, 100, 150, 200, 250, 300],\n",
    "             'max_depth':[2,3,4,5,6,7,8]}\n",
    "clf = GridSearchCV(random, parameters, cv=5, scoring=\"accuracy\") \n",
    "clf.fit(x_train,y_train)\n",
    "clf.best_params_"
   ]
  },
  {
   "cell_type": "code",
   "execution_count": 128,
   "metadata": {},
   "outputs": [
    {
     "name": "stdout",
     "output_type": "stream",
     "text": [
      "\n",
      "Train accuracy for n_estimators = 200 is 78%\n",
      "\n",
      "Train fscore for n_estimators = 200 is 0%\n",
      "\n",
      "Test accuracy for n_estimators = 200 is 70%\n",
      "\n",
      "Test fscore for n_estimators = 200 is 0%\n"
     ]
    }
   ],
   "source": [
    "random = RandomForestClassifier(n_estimators=300, max_depth=8) \n",
    "random.fit(x_train,y_train)   \n",
    "pred9 = random.predict(x_train)   \n",
    "acc9 = accuracy_score(y_train, pred9, normalize=True) * float(100)   \n",
    "print('\\nTrain accuracy for n_estimators = %d is %d%%' % (200, acc9))\n",
    "f9 = f1_score(y_train,pred9)\n",
    "print('\\nTrain fscore for n_estimators = %d is %d%%' % (200, f9))\n",
    "pred10 = random.predict(x_test)   \n",
    "acc10 = accuracy_score(y_test, pred10, normalize=True) * float(100)   \n",
    "print('\\nTest accuracy for n_estimators = %d is %d%%' % (200, acc10))\n",
    "f10 = f1_score(y_test,pred10)\n",
    "print('\\nTest fscore for n_estimators = %d is %d%%' % (200, f10))"
   ]
  },
  {
   "cell_type": "markdown",
   "metadata": {},
   "source": [
    "## Test on new data"
   ]
  },
  {
   "cell_type": "code",
   "execution_count": 129,
   "metadata": {},
   "outputs": [
    {
     "name": "stdout",
     "output_type": "stream",
     "text": [
      "(1, 3068)\n"
     ]
    }
   ],
   "source": [
    "j =['&amp; #love &amp; #hugs &amp; #kisses too! how to keep your #baby     #parenting #healthcare']\n",
    "m = vectorizer.transform(j) \n",
    "print(m.shape)\n",
    "#print(logi.predict(m))"
   ]
  },
  {
   "cell_type": "code",
   "execution_count": 130,
   "metadata": {},
   "outputs": [
    {
     "name": "stdout",
     "output_type": "stream",
     "text": [
      "[0]\n"
     ]
    }
   ],
   "source": [
    "print(dec_tree.predict(m))"
   ]
  },
  {
   "cell_type": "code",
   "execution_count": 131,
   "metadata": {},
   "outputs": [
    {
     "name": "stdout",
     "output_type": "stream",
     "text": [
      "[0]\n"
     ]
    }
   ],
   "source": [
    "print(log.predict(m))"
   ]
  },
  {
   "cell_type": "code",
   "execution_count": 132,
   "metadata": {},
   "outputs": [
    {
     "name": "stdout",
     "output_type": "stream",
     "text": [
      "[0]\n"
     ]
    }
   ],
   "source": [
    "print(random.predict(m))"
   ]
  },
  {
   "cell_type": "code",
   "execution_count": 133,
   "metadata": {},
   "outputs": [
    {
     "name": "stdout",
     "output_type": "stream",
     "text": [
      "[1]\n"
     ]
    }
   ],
   "source": [
    "print(neigh.predict(m.toarray()))"
   ]
  },
  {
   "cell_type": "code",
   "execution_count": 134,
   "metadata": {},
   "outputs": [
    {
     "name": "stdout",
     "output_type": "stream",
     "text": [
      "[0]\n"
     ]
    }
   ],
   "source": [
    "print(naive.predict(m.toarray()))"
   ]
  },
  {
   "cell_type": "markdown",
   "metadata": {},
   "source": [
    "## Applying word2vec on the tweets"
   ]
  },
  {
   "cell_type": "code",
   "execution_count": 135,
   "metadata": {},
   "outputs": [],
   "source": [
    "model_w2v=gensim.models.Word2Vec(red_train['tidy_tweet'],size=200,window=5,min_count=2,sg=1,hs=0,negative=10,workers=2,seed=34)"
   ]
  },
  {
   "cell_type": "code",
   "execution_count": 136,
   "metadata": {},
   "outputs": [
    {
     "data": {
      "text/plain": [
       "(172010, 963080)"
      ]
     },
     "execution_count": 136,
     "metadata": {},
     "output_type": "execute_result"
    }
   ],
   "source": [
    "model_w2v.train(red_train['tidy_tweet'],total_examples=len(red_train['tidy_tweet']),epochs=20)"
   ]
  },
  {
   "cell_type": "code",
   "execution_count": 137,
   "metadata": {},
   "outputs": [],
   "source": [
    "def word_vector(tokens,size):\n",
    "    vec=np.zeros(size).reshape((1,size))\n",
    "    count=0\n",
    "    for word in tokens:\n",
    "        try:\n",
    "            vec+=model_w2v[word].reshape((1,size))\n",
    "            count+=1\n",
    "        except KeyError:\n",
    "            continue\n",
    "    if count!=0:\n",
    "        vec/=count\n",
    "    return vec"
   ]
  },
  {
   "cell_type": "code",
   "execution_count": 138,
   "metadata": {},
   "outputs": [
    {
     "data": {
      "text/plain": [
       "(31962, 200)"
      ]
     },
     "execution_count": 138,
     "metadata": {},
     "output_type": "execute_result"
    }
   ],
   "source": [
    "le=len(tokenized_tweet)\n",
    "wordvec_arrays=np.zeros((le,200))\n",
    "for i in range(len(tokenized_tweet)):\n",
    "    wordvec_arrays[i,:]=word_vector(tokenized_tweet[i],200)\n",
    "wordvec_df=pd.DataFrame(wordvec_arrays)\n",
    "wordvec_df.shape"
   ]
  },
  {
   "cell_type": "code",
   "execution_count": 139,
   "metadata": {},
   "outputs": [],
   "source": [
    "red_wordvec_df=wordvec_df[:1000]"
   ]
  },
  {
   "cell_type": "markdown",
   "metadata": {},
   "source": [
    "## splitting the dataset "
   ]
  },
  {
   "cell_type": "code",
   "execution_count": 140,
   "metadata": {},
   "outputs": [],
   "source": [
    "x2_train,x2_test,y2_train,y2_test=train_test_split(red_wordvec_df,red_train['label'],test_size=0.2,random_state=41)\n",
    "#x_train,x_test,y_train,y_test=train_test_split(tf_idf,red_train['label'],test_size=0.2,random_state=41)"
   ]
  },
  {
   "cell_type": "markdown",
   "metadata": {},
   "source": [
    "## Fittng  naive bayes"
   ]
  },
  {
   "cell_type": "code",
   "execution_count": 141,
   "metadata": {},
   "outputs": [
    {
     "name": "stdout",
     "output_type": "stream",
     "text": [
      "the training accuracy with naive bayes is:0.5025\n",
      "the testing accuracy with naive bayes is:0.475\n",
      "the f1 score for training data:0.6143410852713178\n",
      "the f1 score for testing data:0.5606694560669456\n"
     ]
    }
   ],
   "source": [
    "from sklearn.naive_bayes import GaussianNB\n",
    "model_wrd=GaussianNB()\n",
    "model_wrd.fit(x2_train,y2_train)\n",
    "pred1wd=model_wrd.predict(x2_train)\n",
    "pred2wd=model_wrd.predict(x2_test)\n",
    "acc1wd=accuracy_score(y2_train,pred1wd)\n",
    "print(\"the training accuracy with naive bayes is:{}\".format(acc1wd))\n",
    "acc2wd=accuracy_score(y2_test,pred2wd)\n",
    "print('the testing accuracy with naive bayes is:{}'.format(acc2wd))\n",
    "f1wd = f1_score(y2_train,pred1wd)\n",
    "print('the f1 score for training data:{}'.format(f1wd))\n",
    "f2wd = f1_score(y2_test,pred2wd)\n",
    "print('the f1 score for testing data:{}'.format(f2wd))"
   ]
  },
  {
   "cell_type": "markdown",
   "metadata": {},
   "source": [
    "## Fitting knn"
   ]
  },
  {
   "cell_type": "code",
   "execution_count": 142,
   "metadata": {},
   "outputs": [
    {
     "data": {
      "text/plain": [
       "{'n_neighbors': 3}"
      ]
     },
     "execution_count": 142,
     "metadata": {},
     "output_type": "execute_result"
    }
   ],
   "source": [
    "from sklearn.model_selection import GridSearchCV\n",
    "from sklearn.neighbors import KNeighborsClassifier\n",
    "parameters = {'n_neighbors':[1,2,3,4,5,6,7,8,9,10]}\n",
    "neigh = KNeighborsClassifier()\n",
    "clf = GridSearchCV(neigh, parameters, cv=5, scoring=\"accuracy\")\n",
    "clf.fit(x2_train,y2_train)\n",
    "clf.best_params_"
   ]
  },
  {
   "cell_type": "code",
   "execution_count": 143,
   "metadata": {},
   "outputs": [
    {
     "name": "stdout",
     "output_type": "stream",
     "text": [
      "the training accuracy with KNN is:\n",
      "0.98875\n",
      "the testing accuracy with KNN is:\n",
      "0.495\n",
      "the f1 score for training data\n",
      "0.9892984542211652\n",
      "the f1 score for testing data\n",
      "0.49246231155778897\n"
     ]
    }
   ],
   "source": [
    "neigh = KNeighborsClassifier(n_neighbors=1)\n",
    "neigh.fit(x2_train,y2_train)\n",
    "pred3wd=neigh.predict(x2_train)\n",
    "acc1wd=accuracy_score(pred3wd,y2_train)\n",
    "print(\"the training accuracy with KNN is:\")\n",
    "print(acc1wd)\n",
    "pred4wd=neigh.predict(x2_test)\n",
    "acc2wd=accuracy_score(pred4wd,y2_test)\n",
    "print(\"the testing accuracy with KNN is:\")\n",
    "print(acc2wd)\n",
    "f3wd = f1_score(y2_train,pred3wd)\n",
    "print('the f1 score for training data')\n",
    "print(f3wd)\n",
    "f4wd = f1_score(y2_test,pred4wd)\n",
    "print('the f1 score for testing data')\n",
    "print(f4wd)"
   ]
  },
  {
   "cell_type": "markdown",
   "metadata": {},
   "source": [
    "## Fitting  logistic regression"
   ]
  },
  {
   "cell_type": "code",
   "execution_count": 144,
   "metadata": {},
   "outputs": [
    {
     "data": {
      "text/plain": [
       "{'C': 0.0001, 'penalty': 'l2'}"
      ]
     },
     "execution_count": 144,
     "metadata": {},
     "output_type": "execute_result"
    }
   ],
   "source": [
    "from sklearn.linear_model import LogisticRegression\n",
    "parameters = {'penalty':[\"l1\",\"l2\"],\n",
    "             'C':[0.0001, 0.001, 0.01, 0.1, 1, 10,100,1000, 10000, 100000]\n",
    "             }\n",
    "logi = LogisticRegression()\n",
    "clf = GridSearchCV(logi, parameters, cv=5, scoring=\"accuracy\")\n",
    "clf.fit(x2_train,y2_train)\n",
    "clf.best_params_"
   ]
  },
  {
   "cell_type": "code",
   "execution_count": 145,
   "metadata": {},
   "outputs": [
    {
     "name": "stdout",
     "output_type": "stream",
     "text": [
      "the training accuracy with logistic Regression is:0.5225\n",
      "the testing accuracy with logistic Regression was:0.41\n",
      "the f1 score for training data:0.6863711001642036\n",
      "the f1 score for testing data:0.5815602836879432\n"
     ]
    }
   ],
   "source": [
    "logitf =  LogisticRegression(penalty='l2', C=0.0001)\n",
    "logitf.fit(x2_train,y2_train)\n",
    "pred5tf=logitf.predict(x2_train)\n",
    "accutf=accuracy_score(pred5tf,y2_train)\n",
    "print(\"the training accuracy with logistic Regression is:{}\".format(accutf))\n",
    "pred6tf=logitf.predict(x2_test)\n",
    "accu1tf=accuracy_score(pred6tf,y2_test)\n",
    "print(\"the testing accuracy with logistic Regression was:{}\".format(accu1tf))\n",
    "f5tf = f1_score(y2_train,pred5tf)\n",
    "print('the f1 score for training data:{}'.format(f5tf))\n",
    "f6tf = f1_score(y2_test,pred6tf)\n",
    "print('the f1 score for testing data:{}'.format(f6tf))"
   ]
  },
  {
   "cell_type": "markdown",
   "metadata": {},
   "source": [
    "## Fitting decision tree"
   ]
  },
  {
   "cell_type": "code",
   "execution_count": 146,
   "metadata": {},
   "outputs": [
    {
     "data": {
      "text/plain": [
       "{'criterion': 'gini',\n",
       " 'max_depth': 7,\n",
       " 'min_samples_leaf': 2,\n",
       " 'min_samples_split': 3}"
      ]
     },
     "execution_count": 146,
     "metadata": {},
     "output_type": "execute_result"
    }
   ],
   "source": [
    "from sklearn import tree\n",
    "dec = tree.DecisionTreeClassifier()\n",
    "parameters = {'criterion':[\"gini\", \"entropy\"],\n",
    "             'max_depth':[2,3,4,5,6,7,8],\n",
    "             'min_samples_split':[2,3,4],\n",
    "             'min_samples_leaf':[1,2,3,4]}\n",
    "clf = GridSearchCV(dec, parameters, cv=5, scoring=\"accuracy\")\n",
    "clf.fit(x2_train,y2_train)\n",
    "clf.best_params_"
   ]
  },
  {
   "cell_type": "code",
   "execution_count": 147,
   "metadata": {},
   "outputs": [
    {
     "name": "stdout",
     "output_type": "stream",
     "text": [
      "the training accuracy with decision tree is:0.84875\n",
      "the testing accuracy with decission tree was:0.515\n",
      "the f1 score for training data:0.8557806912991657\n",
      "the f1 score for testing data:0.49214659685863876\n"
     ]
    }
   ],
   "source": [
    "from sklearn import tree\n",
    "dectf = tree.DecisionTreeClassifier(criterion='gini', max_depth=8, min_samples_leaf=2, min_samples_split=2)\n",
    "dectf.fit(x2_train,y2_train)\n",
    "pred7tf=dectf.predict(x2_train)\n",
    "accutf=accuracy_score(pred7tf,y2_train)\n",
    "print(\"the training accuracy with decision tree is:{}\".format(accutf))\n",
    "pred8tf=dectf.predict(x2_test)\n",
    "accu1tf=accuracy_score(pred8tf,y2_test)\n",
    "print(\"the testing accuracy with decission tree was:{}\".format(accu1tf))\n",
    "f7tf = f1_score(y2_train,pred7tf)\n",
    "print('the f1 score for training data:{}'.format(f7tf))\n",
    "f8tf = f1_score(y2_test,pred8tf)\n",
    "print('the f1 score for testing data:{}'.format(f8tf))"
   ]
  },
  {
   "cell_type": "markdown",
   "metadata": {},
   "source": [
    "## Fitting random forest"
   ]
  },
  {
   "cell_type": "code",
   "execution_count": 148,
   "metadata": {},
   "outputs": [
    {
     "data": {
      "text/plain": [
       "{'max_depth': 8, 'n_estimators': 40}"
      ]
     },
     "execution_count": 148,
     "metadata": {},
     "output_type": "execute_result"
    }
   ],
   "source": [
    "from sklearn.ensemble import RandomForestClassifier \n",
    "rand = RandomForestClassifier()\n",
    "parameters = {'n_estimators':[20, 40, 60, 80, 100, 150, 200, 250, 300],\n",
    "             'max_depth':[2,3,4,5,6,7,8]}\n",
    "clf = GridSearchCV(rand, parameters, cv=5, scoring=\"accuracy\") \n",
    "clf.fit(x2_train,y2_train)\n",
    "clf.best_params_"
   ]
  },
  {
   "cell_type": "code",
   "execution_count": 149,
   "metadata": {},
   "outputs": [
    {
     "name": "stdout",
     "output_type": "stream",
     "text": [
      "\n",
      "Train accuracy for n_estimators = 40 is 97%\n",
      "\n",
      "Train fscore for n_estimators = 40 is 0%\n",
      "\n",
      "Test accuracy for n_estimators = 40.000000 is 52%\n",
      "\n",
      "Test fscore for n_estimators = 40.000000 is 0%\n"
     ]
    }
   ],
   "source": [
    "randtf = RandomForestClassifier(n_estimators=clf.best_params_['n_estimators'], max_depth=clf.best_params_['max_depth']) \n",
    "randtf.fit(x2_train,y2_train)   \n",
    "pred11tf = randtf.predict(x2_train)   \n",
    "acctf = accuracy_score(y2_train, pred11tf, normalize=True) * float(100) \n",
    "f11tf = f1_score(y2_train,pred11tf)\n",
    "print('\\nTrain accuracy for n_estimators = %d is %d%%' % (clf.best_params_['n_estimators'], acctf))\n",
    "print('\\nTrain fscore for n_estimators = %d is %d%%' % (clf.best_params_['n_estimators'], f11tf))\n",
    "\n",
    "pred11tf = randtf.predict(x2_test)   \n",
    "acctf = accuracy_score(y2_test, pred11tf, normalize=True) * float(100) \n",
    "print('\\nTest accuracy for n_estimators = %f is %d%%' % (clf.best_params_['n_estimators'], acctf))\n",
    "f11tf = f1_score(y2_test,pred11tf)\n",
    "print('\\nTest fscore for n_estimators = %f is %d%%' % (clf.best_params_['n_estimators'], f11tf))"
   ]
  },
  {
   "cell_type": "markdown",
   "metadata": {},
   "source": [
    "# Printing a positive and a negative review"
   ]
  },
  {
   "cell_type": "code",
   "execution_count": 150,
   "metadata": {},
   "outputs": [
    {
     "name": "stdout",
     "output_type": "stream",
     "text": [
      "no comment!  in #australia   #opkillingbay #seashepherd #helpcovedolphins #thecove  #helpcovedolphins\n"
     ]
    }
   ],
   "source": [
    "print(red_train['tweet'].iloc[1])#positive"
   ]
  },
  {
   "cell_type": "code",
   "execution_count": 152,
   "metadata": {},
   "outputs": [
    {
     "name": "stdout",
     "output_type": "stream",
     "text": [
      "@user @user thanks for #lyft credit i can't use cause they don't offer wheelchair vans in pdx.    #disapointed #getthanked\n"
     ]
    }
   ],
   "source": [
    "print(red_train['tweet'].iloc[501])#negative"
   ]
  },
  {
   "cell_type": "code",
   "execution_count": 174,
   "metadata": {},
   "outputs": [],
   "source": [
    "rand_lst=[5,24,36,87,9,8,56,61,41]"
   ]
  },
  {
   "cell_type": "code",
   "execution_count": 180,
   "metadata": {},
   "outputs": [
    {
     "name": "stdout",
     "output_type": "stream",
     "text": [
      "the training accuracy with 5 is:0.9975\n",
      "the testing accuracy with 5 is:0.835\n",
      "the training accuracy with 24 is:0.9975\n",
      "the testing accuracy with 24 is:0.835\n",
      "the training accuracy with 36 is:0.9975\n",
      "the testing accuracy with 36 is:0.835\n",
      "the training accuracy with 87 is:0.9975\n",
      "the testing accuracy with 87 is:0.835\n",
      "the training accuracy with 9 is:0.9975\n",
      "the testing accuracy with 9 is:0.835\n",
      "the training accuracy with 8 is:0.9975\n",
      "the testing accuracy with 8 is:0.835\n",
      "the training accuracy with 56 is:0.9975\n",
      "the testing accuracy with 56 is:0.835\n",
      "the training accuracy with 61 is:0.9975\n",
      "the testing accuracy with 61 is:0.835\n",
      "the training accuracy with 41 is:0.9975\n",
      "the testing accuracy with 41 is:0.835\n"
     ]
    }
   ],
   "source": [
    "for i in rand_lst:\n",
    "    log = LogisticRegression(C=10, penalty=\"l2\",random_state=i)\n",
    "    log.fit(x_train,y_train)\n",
    "    pred5=log.predict(x_train)\n",
    "    acc5=accuracy_score(pred5,y_train)\n",
    "    print(\"the training accuracy with {} is:{}\".format(i,acc5))\n",
    "    pred6=log.predict(x_test)\n",
    "    acc6=accuracy_score(pred6,y_test)\n",
    "    print(\"the testing accuracy with {} is:{}\".format(i,acc6))"
   ]
  },
  {
   "cell_type": "code",
   "execution_count": null,
   "metadata": {},
   "outputs": [],
   "source": []
  }
 ],
 "metadata": {
  "kernelspec": {
   "display_name": "Python 3",
   "language": "python",
   "name": "python3"
  },
  "language_info": {
   "codemirror_mode": {
    "name": "ipython",
    "version": 3
   },
   "file_extension": ".py",
   "mimetype": "text/x-python",
   "name": "python",
   "nbconvert_exporter": "python",
   "pygments_lexer": "ipython3",
   "version": "3.6.5"
  }
 },
 "nbformat": 4,
 "nbformat_minor": 2
}
